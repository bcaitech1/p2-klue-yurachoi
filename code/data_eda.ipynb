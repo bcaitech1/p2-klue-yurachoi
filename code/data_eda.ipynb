{
 "cells": [
  {
   "cell_type": "code",
   "execution_count": 6,
   "id": "7cd953b1-3410-4af6-b196-b36a9a1d28c1",
   "metadata": {},
   "outputs": [],
   "source": [
    "import pandas as pd\n",
    "import numpy as np\n",
    "from PIL import Image\n",
    "import re\n",
    "\n",
    "import matplotlib.pyplot as plt\n",
    "%matplotlib inline\n",
    "import seaborn as sns"
   ]
  },
  {
   "cell_type": "code",
   "execution_count": 8,
   "id": "bb8c224e-69e2-4ef8-9f6a-4f42547618e9",
   "metadata": {},
   "outputs": [],
   "source": [
    "%config Completer.use_jedi = False"
   ]
  },
  {
   "cell_type": "code",
   "execution_count": 1,
   "id": "769831b5-884b-4bb1-bc6f-f674bd3fd38d",
   "metadata": {},
   "outputs": [
    {
     "output_type": "stream",
     "name": "stderr",
     "text": [
      "/opt/conda/lib/python3.7/importlib/_bootstrap.py:219: RuntimeWarning: numpy.ufunc size changed, may indicate binary incompatibility. Expected 192 from C header, got 216 from PyObject\n  return f(*args, **kwds)\n"
     ]
    }
   ],
   "source": [
    "from transformers import AutoTokenizer\n",
    "import torch\n",
    "\n",
    "\n",
    "tokenizer = AutoTokenizer.from_pretrained('monologg/koelectra-base-v3-discriminator')"
   ]
  },
  {
   "cell_type": "code",
   "execution_count": 3,
   "metadata": {},
   "outputs": [
    {
     "output_type": "execute_result",
     "data": {
      "text/plain": [
       "['안녕', '나', '##는', '나', '##는', '##나', '##나', '##나']"
      ]
     },
     "metadata": {},
     "execution_count": 3
    }
   ],
   "source": [
    "tokenizer.tokenize(\"안녕 나는 나는나나나\")"
   ]
  },
  {
   "cell_type": "code",
   "execution_count": 2,
   "metadata": {},
   "outputs": [],
   "source": [
    "import pandas as pd\n",
    "original_train_df = pd.read_csv('/opt/ml/input/data/train/train.tsv', delimiter='\\t', names=['id', 'text', 'entity1', 'beg1', 'end1', 'entity2', 'beg2', 'end2', 'label'])\n"
   ]
  },
  {
   "cell_type": "code",
   "execution_count": 7,
   "metadata": {},
   "outputs": [
    {
     "output_type": "execute_result",
     "data": {
      "text/plain": [
       "                               id  \\\n",
       "0  wikipedia-24896-25-30-33-19-21   \n",
       "1   wikipedia-12728-224-5-7-42-44   \n",
       "2      wikipedia-28460-3-0-7-9-12   \n",
       "3    wikipedia-11479-37-24-26-3-5   \n",
       "4     wikipedia-15581-6-0-2-32-40   \n",
       "\n",
       "                                                text   entity1  beg1  end1  \\\n",
       "0  영국에서 사용되는 스포츠 유틸리티 자동차의 브랜드로는 랜드로버(Land Rover)...      랜드로버    30    33   \n",
       "1  선거에서 민주당은 해산 전 의석인 230석에 한참 못 미치는 57석(지역구 27석,...       민주당     5     7   \n",
       "2  유럽 축구 연맹(UEFA) 집행위원회는 2014년 1월 24일에 열린 회의를 통해 ...  유럽 축구 연맹     0     7   \n",
       "3  용병 공격수 챠디의 부진과 시즌 초 활약한 강수일의 침체, 시즌 중반에 영입한 세르...       강수일    24    26   \n",
       "4  람캄행 왕은 1237년에서 1247년 사이 수코타이의 왕 퍼쿤 씨 인트라팃과 쓰엉 ...       람캄행     0     2   \n",
       "\n",
       "     entity2  beg2  end2     label  \n",
       "0        자동차    19    21     단체:제작  \n",
       "1        27석    42    44     관계_없음  \n",
       "2       UEFA     9    12     단체:별칭  \n",
       "3        공격수     3     5  인물:직업/직함  \n",
       "4  퍼쿤 씨 인트라팃    32    40    인물:부모님  "
      ],
      "text/html": "<div>\n<style scoped>\n    .dataframe tbody tr th:only-of-type {\n        vertical-align: middle;\n    }\n\n    .dataframe tbody tr th {\n        vertical-align: top;\n    }\n\n    .dataframe thead th {\n        text-align: right;\n    }\n</style>\n<table border=\"1\" class=\"dataframe\">\n  <thead>\n    <tr style=\"text-align: right;\">\n      <th></th>\n      <th>id</th>\n      <th>text</th>\n      <th>entity1</th>\n      <th>beg1</th>\n      <th>end1</th>\n      <th>entity2</th>\n      <th>beg2</th>\n      <th>end2</th>\n      <th>label</th>\n    </tr>\n  </thead>\n  <tbody>\n    <tr>\n      <th>0</th>\n      <td>wikipedia-24896-25-30-33-19-21</td>\n      <td>영국에서 사용되는 스포츠 유틸리티 자동차의 브랜드로는 랜드로버(Land Rover)...</td>\n      <td>랜드로버</td>\n      <td>30</td>\n      <td>33</td>\n      <td>자동차</td>\n      <td>19</td>\n      <td>21</td>\n      <td>단체:제작</td>\n    </tr>\n    <tr>\n      <th>1</th>\n      <td>wikipedia-12728-224-5-7-42-44</td>\n      <td>선거에서 민주당은 해산 전 의석인 230석에 한참 못 미치는 57석(지역구 27석,...</td>\n      <td>민주당</td>\n      <td>5</td>\n      <td>7</td>\n      <td>27석</td>\n      <td>42</td>\n      <td>44</td>\n      <td>관계_없음</td>\n    </tr>\n    <tr>\n      <th>2</th>\n      <td>wikipedia-28460-3-0-7-9-12</td>\n      <td>유럽 축구 연맹(UEFA) 집행위원회는 2014년 1월 24일에 열린 회의를 통해 ...</td>\n      <td>유럽 축구 연맹</td>\n      <td>0</td>\n      <td>7</td>\n      <td>UEFA</td>\n      <td>9</td>\n      <td>12</td>\n      <td>단체:별칭</td>\n    </tr>\n    <tr>\n      <th>3</th>\n      <td>wikipedia-11479-37-24-26-3-5</td>\n      <td>용병 공격수 챠디의 부진과 시즌 초 활약한 강수일의 침체, 시즌 중반에 영입한 세르...</td>\n      <td>강수일</td>\n      <td>24</td>\n      <td>26</td>\n      <td>공격수</td>\n      <td>3</td>\n      <td>5</td>\n      <td>인물:직업/직함</td>\n    </tr>\n    <tr>\n      <th>4</th>\n      <td>wikipedia-15581-6-0-2-32-40</td>\n      <td>람캄행 왕은 1237년에서 1247년 사이 수코타이의 왕 퍼쿤 씨 인트라팃과 쓰엉 ...</td>\n      <td>람캄행</td>\n      <td>0</td>\n      <td>2</td>\n      <td>퍼쿤 씨 인트라팃</td>\n      <td>32</td>\n      <td>40</td>\n      <td>인물:부모님</td>\n    </tr>\n  </tbody>\n</table>\n</div>"
     },
     "metadata": {},
     "execution_count": 7
    }
   ],
   "source": [
    "original_train_df.head()"
   ]
  },
  {
   "cell_type": "code",
   "execution_count": 8,
   "metadata": {},
   "outputs": [
    {
     "output_type": "execute_result",
     "data": {
      "text/plain": [
       "                               id  \\\n",
       "0  wikipedia-24896-25-30-33-19-21   \n",
       "1   wikipedia-12728-224-5-7-42-44   \n",
       "2      wikipedia-28460-3-0-7-9-12   \n",
       "\n",
       "                                                text   entity1  beg1  end1  \\\n",
       "0  영국에서 사용되는 스포츠 유틸리티 자동차의 브랜드로는 랜드로버(Land Rover)...      랜드로버    30    33   \n",
       "1  선거에서 민주당은 해산 전 의석인 230석에 한참 못 미치는 57석(지역구 27석,...       민주당     5     7   \n",
       "2  유럽 축구 연맹(UEFA) 집행위원회는 2014년 1월 24일에 열린 회의를 통해 ...  유럽 축구 연맹     0     7   \n",
       "\n",
       "  entity2  beg2  end2  label  \n",
       "0     자동차    19    21  단체:제작  \n",
       "1     27석    42    44  관계_없음  \n",
       "2    UEFA     9    12  단체:별칭  "
      ],
      "text/html": "<div>\n<style scoped>\n    .dataframe tbody tr th:only-of-type {\n        vertical-align: middle;\n    }\n\n    .dataframe tbody tr th {\n        vertical-align: top;\n    }\n\n    .dataframe thead th {\n        text-align: right;\n    }\n</style>\n<table border=\"1\" class=\"dataframe\">\n  <thead>\n    <tr style=\"text-align: right;\">\n      <th></th>\n      <th>id</th>\n      <th>text</th>\n      <th>entity1</th>\n      <th>beg1</th>\n      <th>end1</th>\n      <th>entity2</th>\n      <th>beg2</th>\n      <th>end2</th>\n      <th>label</th>\n    </tr>\n  </thead>\n  <tbody>\n    <tr>\n      <th>0</th>\n      <td>wikipedia-24896-25-30-33-19-21</td>\n      <td>영국에서 사용되는 스포츠 유틸리티 자동차의 브랜드로는 랜드로버(Land Rover)...</td>\n      <td>랜드로버</td>\n      <td>30</td>\n      <td>33</td>\n      <td>자동차</td>\n      <td>19</td>\n      <td>21</td>\n      <td>단체:제작</td>\n    </tr>\n    <tr>\n      <th>1</th>\n      <td>wikipedia-12728-224-5-7-42-44</td>\n      <td>선거에서 민주당은 해산 전 의석인 230석에 한참 못 미치는 57석(지역구 27석,...</td>\n      <td>민주당</td>\n      <td>5</td>\n      <td>7</td>\n      <td>27석</td>\n      <td>42</td>\n      <td>44</td>\n      <td>관계_없음</td>\n    </tr>\n    <tr>\n      <th>2</th>\n      <td>wikipedia-28460-3-0-7-9-12</td>\n      <td>유럽 축구 연맹(UEFA) 집행위원회는 2014년 1월 24일에 열린 회의를 통해 ...</td>\n      <td>유럽 축구 연맹</td>\n      <td>0</td>\n      <td>7</td>\n      <td>UEFA</td>\n      <td>9</td>\n      <td>12</td>\n      <td>단체:별칭</td>\n    </tr>\n  </tbody>\n</table>\n</div>"
     },
     "metadata": {},
     "execution_count": 8
    }
   ],
   "source": [
    "original_train_df.iloc[[0, 1, 2]]"
   ]
  },
  {
   "cell_type": "code",
   "execution_count": 5,
   "metadata": {},
   "outputs": [],
   "source": [
    "import pandas as pd\n",
    "original_train_df = pd.read_csv('/opt/ml/input/data/train/train.tsv', delimiter='\\t', names=['id', 'text', 'entity1', 'beg1', 'end1', 'entity2', 'beg2', 'end2', 'label'])\n"
   ]
  },
  {
   "cell_type": "code",
   "execution_count": 1,
   "metadata": {},
   "outputs": [],
   "source": [
    "def load_pd_data(data_dir):\n",
    "    \"\"\"\n",
    "    학습 데이터를 pandas DataFrmae 형태로 읽어들이고, label을 id로 변환한다\n",
    "    - data_dir: train tsv 파일의 경로\n",
    "    \"\"\"\n",
    "    with open('/opt/ml/input/data/label_type.pkl', 'rb') as f:\n",
    "        label_type = pickle.load(f)\n",
    "        print(label_type)\n",
    "    # load dataset\n",
    "    dataset = pd.read_csv(data_dir, delimiter='\\t', names=[\"documentID\", \"text\", \"ent1\", \"ent1_start\", \"ent1_end\", \"ent2\", \"ent2_start\", \"ent2_end\", \"label\"])\n",
    "    label = []\n",
    "    for i in dataset['label']:\n",
    "        if i == 'blind':\n",
    "            label.append(100)\n",
    "        else:\n",
    "            label.append(label_type[i])\n",
    "    dataset['label'] = label\n",
    "    return dataset"
   ]
  },
  {
   "cell_type": "code",
   "execution_count": 15,
   "metadata": {},
   "outputs": [
    {
     "output_type": "stream",
     "name": "stdout",
     "text": [
      "[ 467  883 1137 ... 8997 8998 8999] [   0    1    2 ... 3599 3697 5211]\n",
      "/opt/conda/lib/python3.7/site-packages/sklearn/model_selection/_split.py:668: UserWarning: The least populated class in y has only 1 members, which is less than n_splits=5.\n",
      "  % (min_groups, self.n_splits)), UserWarning)\n"
     ]
    },
    {
     "output_type": "error",
     "ename": "NameError",
     "evalue": "name 'tokenize_dataset' is not defined",
     "traceback": [
      "\u001b[0;31m---------------------------------------------------------------------------\u001b[0m",
      "\u001b[0;31mNameError\u001b[0m                                 Traceback (most recent call last)",
      "\u001b[0;32m<ipython-input-15-eea89dffa0ab>\u001b[0m in \u001b[0;36m<module>\u001b[0;34m\u001b[0m\n\u001b[1;32m     13\u001b[0m   \u001b[0mval_dataset\u001b[0m \u001b[0;34m=\u001b[0m \u001b[0mdataset\u001b[0m\u001b[0;34m.\u001b[0m\u001b[0miloc\u001b[0m\u001b[0;34m[\u001b[0m\u001b[0mval_idx\u001b[0m\u001b[0;34m]\u001b[0m\u001b[0;34m\u001b[0m\u001b[0;34m\u001b[0m\u001b[0m\n\u001b[1;32m     14\u001b[0m   \u001b[0mval_labels\u001b[0m \u001b[0;34m=\u001b[0m \u001b[0mval_dataset\u001b[0m\u001b[0;34m[\u001b[0m\u001b[0;34m'label'\u001b[0m\u001b[0;34m]\u001b[0m\u001b[0;34m\u001b[0m\u001b[0;34m\u001b[0m\u001b[0m\n\u001b[0;32m---> 15\u001b[0;31m   \u001b[0mtokenized_train\u001b[0m \u001b[0;34m=\u001b[0m \u001b[0mtokenize_dataset\u001b[0m\u001b[0;34m(\u001b[0m\u001b[0mtrain_dataset\u001b[0m\u001b[0;34m,\u001b[0m \u001b[0mtokenizer\u001b[0m\u001b[0;34m)\u001b[0m\u001b[0;34m\u001b[0m\u001b[0;34m\u001b[0m\u001b[0m\n\u001b[0m\u001b[1;32m     16\u001b[0m   \u001b[0mtokenized_val\u001b[0m \u001b[0;34m=\u001b[0m \u001b[0mtokenize_dataset\u001b[0m\u001b[0;34m(\u001b[0m\u001b[0mval_dataset\u001b[0m\u001b[0;34m,\u001b[0m \u001b[0mtokenizer\u001b[0m\u001b[0;34m)\u001b[0m\u001b[0;34m\u001b[0m\u001b[0;34m\u001b[0m\u001b[0m\n\u001b[1;32m     17\u001b[0m   \u001b[0mtrain_dataset\u001b[0m \u001b[0;34m=\u001b[0m \u001b[0mRE_Dataset\u001b[0m\u001b[0;34m(\u001b[0m\u001b[0mtokenized_train\u001b[0m\u001b[0;34m,\u001b[0m \u001b[0mtrain_labels\u001b[0m\u001b[0;34m)\u001b[0m\u001b[0;34m\u001b[0m\u001b[0;34m\u001b[0m\u001b[0m\n",
      "\u001b[0;31mNameError\u001b[0m: name 'tokenize_dataset' is not defined"
     ]
    }
   ],
   "source": [
    "from sklearn.model_selection import StratifiedKFold\n",
    "import pickle\n",
    "  \n",
    "stratified_kfolds = StratifiedKFold(n_splits=5)\n",
    "\n",
    "dataset = load_pd_data(\"/opt/ml/input/data/train/train.tsv\")\n",
    "labels = dataset['label'].values\n",
    "\n",
    "for train_idx, val_idx in stratified_kfolds.split(dataset, labels):\n",
    "  print(train_idx, val_idx)\n",
    "  train_dataset = dataset.iloc[train_idx]\n",
    "  train_labels = train_dataset['label']\n",
    "  val_dataset = dataset.iloc[val_idx]\n",
    "  val_labels = val_dataset['label']\n",
    "  tokenized_train = tokenize_dataset(train_dataset, tokenizer)\n",
    "  tokenized_val = tokenize_dataset(val_dataset, tokenizer)\n",
    "  train_dataset = RE_Dataset(tokenized_train, train_labels)\n",
    "  val_dataset = RE_Dataset(tokenized_val, val_labels)\n",
    "  train_model(args, train_dataset, val_dataset, model_output_dir)"
   ]
  },
  {
   "cell_type": "code",
   "execution_count": 6,
   "metadata": {},
   "outputs": [],
   "source": [
    "from transformers import AutoTokenizer\n",
    "# tokenizer = AutoTokenizer.from_pretrained(\"monologg/koelectra-base-v3-discriminator\")\n",
    "tokenizer = AutoTokenizer.from_pretrained(\"xlm-roberta-large\")\n",
    "tokenized_lengths = []\n",
    "for text in original_train_df['text']:\n",
    "    tokenized_lengths.append(len(tokenizer.encode(text)))\n",
    "original_train_df['tokenized_length'] = tokenized_lengths"
   ]
  },
  {
   "cell_type": "code",
   "execution_count": 7,
   "metadata": {},
   "outputs": [
    {
     "output_type": "execute_result",
     "data": {
      "text/plain": [
       "count    9000.000000\n",
       "mean       59.806111\n",
       "std        29.070114\n",
       "min        13.000000\n",
       "25%        40.000000\n",
       "50%        54.000000\n",
       "75%        72.000000\n",
       "max       341.000000\n",
       "Name: tokenized_length, dtype: float64"
      ]
     },
     "metadata": {},
     "execution_count": 7
    }
   ],
   "source": [
    "original_train_df['tokenized_length'].describe()"
   ]
  },
  {
   "cell_type": "code",
   "execution_count": 14,
   "metadata": {},
   "outputs": [
    {
     "output_type": "execute_result",
     "data": {
      "text/plain": [
       "216"
      ]
     },
     "metadata": {},
     "execution_count": 14
    }
   ],
   "source": [
    "len(original_train_df[original_train_df[\"tokenized_length\"] > 120])"
   ]
  },
  {
   "cell_type": "code",
   "execution_count": 221,
   "metadata": {
    "tags": []
   },
   "outputs": [
    {
     "output_type": "stream",
     "name": "stdout",
     "text": [
      "{'관계_없음': 0, '인물:배우자': 1, '인물:직업/직함': 2, '단체:모회사': 3, '인물:소속단체': 4, '인물:동료': 5, '단체:별칭': 6, '인물:출신성분/국적': 7, '인물:부모님': 8, '단체:본사_국가': 9, '단체:구성원': 10, '인물:기타_친족': 11, '단체:창립자': 12, '단체:주주': 13, '인물:사망_일시': 14, '단체:상위_단체': 15, '단체:본사_주(도)': 16, '단체:제작': 17, '인물:사망_원인': 18, '인물:출생_도시': 19, '단체:본사_도시': 20, '인물:자녀': 21, '인물:제작': 22, '단체:하위_단체': 23, '인물:별칭': 24, '인물:형제/자매/남매': 25, '인물:출생_국가': 26, '인물:출생_일시': 27, '단체:구성원_수': 28, '단체:자회사': 29, '인물:거주_주(도)': 30, '단체:해산일': 31, '인물:거주_도시': 32, '단체:창립일': 33, '인물:종교': 34, '인물:거주_국가': 35, '인물:용의자': 36, '인물:사망_도시': 37, '단체:정치/종교성향': 38, '인물:학교': 39, '인물:사망_국가': 40, '인물:나이': 41}\n"
     ]
    }
   ],
   "source": [
    "import pandas as pd\n",
    "from sklearn.model_selection import train_test_split\n",
    "import pickle\n",
    "\n",
    "def load_pd_data_2(data_dir):\n",
    "    \"\"\"\n",
    "    학습 데이터를 pandas DataFrmae 형태로 읽어들이고, label을 id로 변환한다\n",
    "    - data_dir: train tsv 파일의 경로\n",
    "    \"\"\"\n",
    "    with open('/opt/ml/input/data/label_type.pkl', 'rb') as f:\n",
    "        label_type = pickle.load(f)\n",
    "        print(label_type)\n",
    "    # load dataset\n",
    "    dataset = pd.read_csv(data_dir, delimiter='\\t')\n",
    "    labels = []\n",
    "    dataset[\"label\"].value_counts()\n",
    "    for label in dataset['label']:\n",
    "        if label == 'blind':\n",
    "            labels.append(100)\n",
    "        else:\n",
    "            labels.append(label_type[label])\n",
    "    dataset['label'] = labels\n",
    "    return dataset\n",
    "\n",
    "\n",
    "train_data = load_pd_data_2(\"/opt/ml/input/data/train/train_gold.tsv\")\n",
    "labels = train_data['label'].values\n",
    "\n",
    "x_train, x_val, y_train, y_val = train_test_split(train_data, labels, test_size=0.1, stratify=labels)\n",
    "\n"
   ]
  },
  {
   "cell_type": "code",
   "execution_count": 222,
   "metadata": {},
   "outputs": [
    {
     "output_type": "execute_result",
     "data": {
      "text/plain": [
       "                               id  \\\n",
       "0  wikipedia-24896-25-30-33-19-21   \n",
       "1   wikipedia-12728-224-5-7-42-44   \n",
       "2      wikipedia-28460-3-0-7-9-12   \n",
       "3    wikipedia-11479-37-24-26-3-5   \n",
       "4     wikipedia-15581-6-0-2-32-40   \n",
       "\n",
       "                                                text   entity1  beg1  end1  \\\n",
       "0  영국에서 사용되는 스포츠 유틸리티 자동차의 브랜드로는 랜드로버(Land Rover)...      랜드로버    30    33   \n",
       "1  선거에서 민주당은 해산 전 의석인 230석에 한참 못 미치는 57석(지역구 27석,...       민주당     5     7   \n",
       "2  유럽 축구 연맹(UEFA) 집행위원회는 2014년 1월 24일에 열린 회의를 통해 ...  유럽 축구 연맹     0     7   \n",
       "3  용병 공격수 챠디의 부진과 시즌 초 활약한 강수일의 침체, 시즌 중반에 영입한 세르...       강수일    24    26   \n",
       "4  람캄행 왕은 1237년에서 1247년 사이 수코타이의 왕 퍼쿤 씨 인트라팃과 쓰엉 ...       람캄행     0     2   \n",
       "\n",
       "     entity2  beg2  end2  label  train_val  \n",
       "0        자동차    19    21     17          0  \n",
       "1        27석    42    44      0          0  \n",
       "2       UEFA     9    12      6          0  \n",
       "3        공격수     3     5      2          0  \n",
       "4  퍼쿤 씨 인트라팃    32    40      8          0  "
      ],
      "text/html": "<div>\n<style scoped>\n    .dataframe tbody tr th:only-of-type {\n        vertical-align: middle;\n    }\n\n    .dataframe tbody tr th {\n        vertical-align: top;\n    }\n\n    .dataframe thead th {\n        text-align: right;\n    }\n</style>\n<table border=\"1\" class=\"dataframe\">\n  <thead>\n    <tr style=\"text-align: right;\">\n      <th></th>\n      <th>id</th>\n      <th>text</th>\n      <th>entity1</th>\n      <th>beg1</th>\n      <th>end1</th>\n      <th>entity2</th>\n      <th>beg2</th>\n      <th>end2</th>\n      <th>label</th>\n      <th>train_val</th>\n    </tr>\n  </thead>\n  <tbody>\n    <tr>\n      <th>0</th>\n      <td>wikipedia-24896-25-30-33-19-21</td>\n      <td>영국에서 사용되는 스포츠 유틸리티 자동차의 브랜드로는 랜드로버(Land Rover)...</td>\n      <td>랜드로버</td>\n      <td>30</td>\n      <td>33</td>\n      <td>자동차</td>\n      <td>19</td>\n      <td>21</td>\n      <td>17</td>\n      <td>0</td>\n    </tr>\n    <tr>\n      <th>1</th>\n      <td>wikipedia-12728-224-5-7-42-44</td>\n      <td>선거에서 민주당은 해산 전 의석인 230석에 한참 못 미치는 57석(지역구 27석,...</td>\n      <td>민주당</td>\n      <td>5</td>\n      <td>7</td>\n      <td>27석</td>\n      <td>42</td>\n      <td>44</td>\n      <td>0</td>\n      <td>0</td>\n    </tr>\n    <tr>\n      <th>2</th>\n      <td>wikipedia-28460-3-0-7-9-12</td>\n      <td>유럽 축구 연맹(UEFA) 집행위원회는 2014년 1월 24일에 열린 회의를 통해 ...</td>\n      <td>유럽 축구 연맹</td>\n      <td>0</td>\n      <td>7</td>\n      <td>UEFA</td>\n      <td>9</td>\n      <td>12</td>\n      <td>6</td>\n      <td>0</td>\n    </tr>\n    <tr>\n      <th>3</th>\n      <td>wikipedia-11479-37-24-26-3-5</td>\n      <td>용병 공격수 챠디의 부진과 시즌 초 활약한 강수일의 침체, 시즌 중반에 영입한 세르...</td>\n      <td>강수일</td>\n      <td>24</td>\n      <td>26</td>\n      <td>공격수</td>\n      <td>3</td>\n      <td>5</td>\n      <td>2</td>\n      <td>0</td>\n    </tr>\n    <tr>\n      <th>4</th>\n      <td>wikipedia-15581-6-0-2-32-40</td>\n      <td>람캄행 왕은 1237년에서 1247년 사이 수코타이의 왕 퍼쿤 씨 인트라팃과 쓰엉 ...</td>\n      <td>람캄행</td>\n      <td>0</td>\n      <td>2</td>\n      <td>퍼쿤 씨 인트라팃</td>\n      <td>32</td>\n      <td>40</td>\n      <td>8</td>\n      <td>0</td>\n    </tr>\n  </tbody>\n</table>\n</div>"
     },
     "metadata": {},
     "execution_count": 222
    }
   ],
   "source": [
    "train_data[\"train_val\"] = [0 for _ in range(len(train_data))]\n",
    "train_data.head()"
   ]
  },
  {
   "cell_type": "code",
   "execution_count": 227,
   "metadata": {},
   "outputs": [
    {
     "output_type": "stream",
     "name": "stderr",
     "text": [
      "/opt/conda/lib/python3.7/site-packages/pandas/core/indexing.py:670: SettingWithCopyWarning: \nA value is trying to be set on a copy of a slice from a DataFrame\n\nSee the caveats in the documentation: https://pandas.pydata.org/pandas-docs/stable/user_guide/indexing.html#returning-a-view-versus-a-copy\n  iloc._setitem_with_indexer(indexer, value)\n"
     ]
    }
   ],
   "source": [
    "train_data[\"train_val\"].loc[x_val.index] = 1"
   ]
  },
  {
   "cell_type": "code",
   "execution_count": 228,
   "metadata": {},
   "outputs": [
    {
     "output_type": "execute_result",
     "data": {
      "text/plain": [
       "0    8159\n",
       "1     907\n",
       "Name: train_val, dtype: int64"
      ]
     },
     "metadata": {},
     "execution_count": 228
    }
   ],
   "source": [
    "train_data[\"train_val\"].value_counts()"
   ]
  },
  {
   "cell_type": "code",
   "execution_count": 234,
   "metadata": {},
   "outputs": [],
   "source": [
    "# train_data.loc[train_data[\"train_val\"] == 1]\n",
    "train_data.loc[train_data[\"label\"] == 10].loc[train_data[\"train_val\"] == 1]\n",
    "train_data.to_csv(\"/opt/ml/input/data/train/train_gold_spilt.tsv\", sep=\"\\t\", index=None)"
   ]
  },
  {
   "cell_type": "code",
   "execution_count": 236,
   "metadata": {},
   "outputs": [
    {
     "output_type": "execute_result",
     "data": {
      "text/plain": [
       "                               id  \\\n",
       "0  wikipedia-24896-25-30-33-19-21   \n",
       "1   wikipedia-12728-224-5-7-42-44   \n",
       "2      wikipedia-28460-3-0-7-9-12   \n",
       "3    wikipedia-11479-37-24-26-3-5   \n",
       "4     wikipedia-15581-6-0-2-32-40   \n",
       "\n",
       "                                                text   entity1  beg1  end1  \\\n",
       "0  영국에서 사용되는 스포츠 유틸리티 자동차의 브랜드로는 랜드로버(Land Rover)...      랜드로버    30    33   \n",
       "1  선거에서 민주당은 해산 전 의석인 230석에 한참 못 미치는 57석(지역구 27석,...       민주당     5     7   \n",
       "2  유럽 축구 연맹(UEFA) 집행위원회는 2014년 1월 24일에 열린 회의를 통해 ...  유럽 축구 연맹     0     7   \n",
       "3  용병 공격수 챠디의 부진과 시즌 초 활약한 강수일의 침체, 시즌 중반에 영입한 세르...       강수일    24    26   \n",
       "4  람캄행 왕은 1237년에서 1247년 사이 수코타이의 왕 퍼쿤 씨 인트라팃과 쓰엉 ...       람캄행     0     2   \n",
       "\n",
       "     entity2  beg2  end2  label  train_val  \n",
       "0        자동차    19    21     17          0  \n",
       "1        27석    42    44      0          0  \n",
       "2       UEFA     9    12      6          0  \n",
       "3        공격수     3     5      2          1  \n",
       "4  퍼쿤 씨 인트라팃    32    40      8          0  "
      ],
      "text/html": "<div>\n<style scoped>\n    .dataframe tbody tr th:only-of-type {\n        vertical-align: middle;\n    }\n\n    .dataframe tbody tr th {\n        vertical-align: top;\n    }\n\n    .dataframe thead th {\n        text-align: right;\n    }\n</style>\n<table border=\"1\" class=\"dataframe\">\n  <thead>\n    <tr style=\"text-align: right;\">\n      <th></th>\n      <th>id</th>\n      <th>text</th>\n      <th>entity1</th>\n      <th>beg1</th>\n      <th>end1</th>\n      <th>entity2</th>\n      <th>beg2</th>\n      <th>end2</th>\n      <th>label</th>\n      <th>train_val</th>\n    </tr>\n  </thead>\n  <tbody>\n    <tr>\n      <th>0</th>\n      <td>wikipedia-24896-25-30-33-19-21</td>\n      <td>영국에서 사용되는 스포츠 유틸리티 자동차의 브랜드로는 랜드로버(Land Rover)...</td>\n      <td>랜드로버</td>\n      <td>30</td>\n      <td>33</td>\n      <td>자동차</td>\n      <td>19</td>\n      <td>21</td>\n      <td>17</td>\n      <td>0</td>\n    </tr>\n    <tr>\n      <th>1</th>\n      <td>wikipedia-12728-224-5-7-42-44</td>\n      <td>선거에서 민주당은 해산 전 의석인 230석에 한참 못 미치는 57석(지역구 27석,...</td>\n      <td>민주당</td>\n      <td>5</td>\n      <td>7</td>\n      <td>27석</td>\n      <td>42</td>\n      <td>44</td>\n      <td>0</td>\n      <td>0</td>\n    </tr>\n    <tr>\n      <th>2</th>\n      <td>wikipedia-28460-3-0-7-9-12</td>\n      <td>유럽 축구 연맹(UEFA) 집행위원회는 2014년 1월 24일에 열린 회의를 통해 ...</td>\n      <td>유럽 축구 연맹</td>\n      <td>0</td>\n      <td>7</td>\n      <td>UEFA</td>\n      <td>9</td>\n      <td>12</td>\n      <td>6</td>\n      <td>0</td>\n    </tr>\n    <tr>\n      <th>3</th>\n      <td>wikipedia-11479-37-24-26-3-5</td>\n      <td>용병 공격수 챠디의 부진과 시즌 초 활약한 강수일의 침체, 시즌 중반에 영입한 세르...</td>\n      <td>강수일</td>\n      <td>24</td>\n      <td>26</td>\n      <td>공격수</td>\n      <td>3</td>\n      <td>5</td>\n      <td>2</td>\n      <td>1</td>\n    </tr>\n    <tr>\n      <th>4</th>\n      <td>wikipedia-15581-6-0-2-32-40</td>\n      <td>람캄행 왕은 1237년에서 1247년 사이 수코타이의 왕 퍼쿤 씨 인트라팃과 쓰엉 ...</td>\n      <td>람캄행</td>\n      <td>0</td>\n      <td>2</td>\n      <td>퍼쿤 씨 인트라팃</td>\n      <td>32</td>\n      <td>40</td>\n      <td>8</td>\n      <td>0</td>\n    </tr>\n  </tbody>\n</table>\n</div>"
     },
     "metadata": {},
     "execution_count": 236
    }
   ],
   "source": [
    "read_data = pd.read_csv(\"/opt/ml/input/data/train/train_gold_spilt.tsv\", delimiter=\"\\t\")\n",
    "read_data.head()"
   ]
  },
  {
   "source": [
    "# Relabel data\n",
    "는 inplace로 바꾸는 법을 까먹어서 수작업함..\n",
    "\n",
    "**잘못된 데이터**\n",
    "\n",
    "- wikitree-55837-4-0-2-10-11\t단체:구성원\n",
    "- wikitree-62775-3-3-7-0-2\t단체:본사_도시\n",
    "- wikitree-12599-4-108-111-4-7        관계_없음\n",
    "- wikipedia-25967-115-24-26-35-37  관계_없음\n",
    "- wikipedia-16427-6-14-17-20-22\t 관계_없음\n",
    "- wikipedia-16427-8-0-3-26-28\t 관계_없음\n",
    "- wikitree-19765-5-30-33-6-8              관계_없음\n",
    "- wikitree-58702-0-18-20-22-24          관계_없음\n",
    "- wikitree-71638-8-21-23-15-17          관계_없음\n"
   ],
   "cell_type": "markdown",
   "metadata": {}
  },
  {
   "cell_type": "code",
   "execution_count": 52,
   "metadata": {},
   "outputs": [],
   "source": [
    "corrected_data = {\n",
    "                    \"wikitree-55837-4-0-2-10-11\": \"단체:구성원\",\n",
    "                    \"wikitree-62775-3-3-7-0-2\": \"단체:본사_도시\",\n",
    "                    \"wikitree-12599-4-108-111-4-7\" : \"관계_없음\",\n",
    "                    \"wikipedia-25967-115-24-26-35-37\" : \"관계_없음\",\n",
    "                    \"wikipedia-16427-6-14-17-20-22\" : \"관계_없음\",\n",
    "                    \"wikipedia-16427-8-0-3-26-28\" :\t\"관계_없음\",\n",
    "                    \"wikitree-19765-5-30-33-6-8\" : \"관계_없음\",\n",
    "                    \"wikitree-58702-0-18-20-22-24\" : \"관계_없음\",\n",
    "                    \"wikitree-71638-8-21-23-15-17\" : \"관계_없음\",\n",
    "                  }\n"
   ]
  },
  {
   "cell_type": "code",
   "execution_count": 29,
   "metadata": {},
   "outputs": [
    {
     "output_type": "stream",
     "name": "stdout",
     "text": [
      "단체:구성원\n단체:본사_도시\n관계_없음\n관계_없음\n관계_없음\n관계_없음\n관계_없음\n관계_없음\n관계_없음\n"
     ]
    }
   ],
   "source": [
    "for wiki_id, corrected_val in corrected_data.items():\n",
    "    original_train_df[original_train_df['wiki_id'] == \"wiki_id\"][\"label\"] = corrected_val\n",
    "    print(corrected_val)"
   ]
  },
  {
   "source": [
    "# Kor-re-gold 데이터셋 추가 사용"
   ],
   "cell_type": "markdown",
   "metadata": {}
  },
  {
   "cell_type": "code",
   "execution_count": 9,
   "metadata": {},
   "outputs": [
    {
     "output_type": "stream",
     "name": "stdout",
     "text": [
      "/opt/ml/input/data/new_data\n"
     ]
    }
   ],
   "source": [
    "cd /opt/ml/input/data/new_data\n"
   ]
  },
  {
   "cell_type": "code",
   "execution_count": 4,
   "metadata": {},
   "outputs": [
    {
     "output_type": "stream",
     "name": "stdout",
     "text": [
      "Cloning into 'kor-re-gold'...\n",
      "remote: Enumerating objects: 51, done.\u001b[K\n",
      "remote: Total 51 (delta 0), reused 0 (delta 0), pack-reused 51\u001b[K\n",
      "Unpacking objects: 100% (51/51), done.\n"
     ]
    }
   ],
   "source": [
    "!git clone https://github.com/machinereading/kor-re-gold.git"
   ]
  },
  {
   "cell_type": "code",
   "execution_count": 10,
   "metadata": {},
   "outputs": [
    {
     "output_type": "stream",
     "name": "stdout",
     "text": [
      "/opt/ml/input/data/new_data/kor-re-gold\n"
     ]
    }
   ],
   "source": [
    "cd /opt/ml/input/data/new_data/kor-re-gold"
   ]
  },
  {
   "cell_type": "code",
   "execution_count": 170,
   "metadata": {},
   "outputs": [
    {
     "output_type": "stream",
     "name": "stdout",
     "text": [
      "161\n75\n"
     ]
    }
   ],
   "source": [
    "new_train_df = pd.read_csv(\"./gold-standard-v1/agreement_content.txt\", delimiter=\"\\t\", names=[\"entity1\", \"entity2\", \"label\", \"text\", \"id\", \"ans\"])\n",
    "new_train_df = new_train_df[(new_train_df[\"ans\"] == \"yes\")]\n",
    "print(len(new_train_df))\n",
    "new_inag_train_df = pd.read_csv(\"./gold-standard-v1/conflict2agreement_content.txt\", delimiter=\"\\t\", names=[\"entity1\", \"entity2\", \"label\", \"text\", \"id\", \"ans\"])\n",
    "new_inag_train_df = new_inag_train_df[(new_inag_train_df[\"ans\"] == \"yes\")]\n",
    "print(len(new_inag_train_df))"
   ]
  },
  {
   "cell_type": "code",
   "execution_count": 171,
   "metadata": {},
   "outputs": [],
   "source": [
    "gold_to_ours = {\n",
    "\"spouse\": '인물:배우자',\n",
    "\"occupation\": '인물:직업/직함',\n",
    "\"industry\": '단체:모회사', # 이건 주제인 회사 or 단체가 속한 산업 분야이니 다를듯\n",
    "'party': '인물:소속단체', # 항목 주제인 정치인 또는 당원이 소속되어 있는 당 \n",
    "'nationality': '인물:출신성분/국적', # -> 인간의 국적인지는 확실 X\n",
    "'parent': '인물:부모님',\n",
    "'currentMember': '단체:구성원',\n",
    "'pastMember': '단체:구성원',\n",
    "'leaderName': '단체:구성원',\n",
    "'keyPerson': '단체:구성원',\n",
    "'relative': '인물:기타_친족',\n",
    "'foundedBy': '단체:창립자',\n",
    "'parentCompany': '단체:상위_단체',\n",
    "'headquarter': '단체:본사_주(도)', # 항목 주제인 조직이나 단체의 본거지가 있거나 세워져 있는 구체적인 위치 (위치라서.. 주(도)랑 별 차이 없을수도)\n",
    "'manufacturer': '단체:제작', # 항목 주제을(를) 제조/제작한 주요 회사, product, industry\n",
    "'product': '단체:제작', \n",
    "'industry': '단체:제작',\n",
    "'child': '인물:자녀',\n",
    "'producer': '인물:제작', # 항목 주제인 창작물의 제작자\n",
    "'writer': '인물:제작',\n",
    "'artist': '인물:제작',\n",
    "'author': '인물:제작',\n",
    "'composer': '인물:제작',\n",
    "'director': '인물:제작',\n",
    "'channels': '인물:제작',\n",
    "'musicalArtist': '인물:제작',\n",
    "'creativeDirector': '인물:제작',\n",
    "'country': '인물:출생_국가', # 항목 주제의 국가 # 잘 안맞는듯\n",
    "# '단체:자회사': 29, # parentCompany?\n",
    "# 'religion': '인물:종교', # 주의: 단체와 연관된 경우도 있음\n",
    "'deathPlace': '인물:사망_국가', # deathPlace - 항목 주제가 죽은 장소,, 지만 도시와 국가가 구분되지 않음. 하지만 시도했다\n",
    "'ideology': '단체:정치/종교성향', # ideology - 항목주제인 기관의 정치적 이념\n",
    "'education': '인물:학교', # 항목 주제인 인물이 교육받은 곳\n",
    "}"
   ]
  },
  {
   "cell_type": "code",
   "execution_count": 172,
   "metadata": {},
   "outputs": [],
   "source": [
    "new_label = [gold_to_ours[old_label] if old_label in gold_to_ours else 'None' for old_label in new_train_df[\"label\"]]"
   ]
  },
  {
   "cell_type": "code",
   "execution_count": 173,
   "metadata": {},
   "outputs": [],
   "source": [
    "new_train_df[\"label\"] = new_label"
   ]
  },
  {
   "cell_type": "code",
   "execution_count": 174,
   "metadata": {},
   "outputs": [
    {
     "output_type": "execute_result",
     "data": {
      "text/plain": [
       "None          95\n",
       "인물:제작         18\n",
       "단체:구성원        10\n",
       "단체:제작          7\n",
       "인물:출생_국가       5\n",
       "인물:자녀          3\n",
       "인물:배우자         3\n",
       "단체:정치/종교성향     3\n",
       "인물:기타_친족       3\n",
       "인물:사망_국가       3\n",
       "단체:상위_단체       2\n",
       "인물:부모님         2\n",
       "단체:창립자         2\n",
       "인물:직업/직함       2\n",
       "인물:출신성분/국적     2\n",
       "인물:소속단체        1\n",
       "Name: label, dtype: int64"
      ]
     },
     "metadata": {},
     "execution_count": 174
    }
   ],
   "source": [
    "new_train_df[\"label\"].value_counts()"
   ]
  },
  {
   "cell_type": "code",
   "execution_count": 175,
   "metadata": {},
   "outputs": [
    {
     "output_type": "execute_result",
     "data": {
      "text/plain": [
       "인물:제작         18\n",
       "단체:구성원        10\n",
       "단체:제작          7\n",
       "인물:출생_국가       5\n",
       "인물:자녀          3\n",
       "인물:배우자         3\n",
       "단체:정치/종교성향     3\n",
       "인물:기타_친족       3\n",
       "인물:사망_국가       3\n",
       "단체:상위_단체       2\n",
       "인물:부모님         2\n",
       "단체:창립자         2\n",
       "인물:직업/직함       2\n",
       "인물:출신성분/국적     2\n",
       "인물:소속단체        1\n",
       "Name: label, dtype: int64"
      ]
     },
     "metadata": {},
     "execution_count": 175
    }
   ],
   "source": [
    "new_train_df = new_train_df.loc[new_train_df[\"label\"] != 'None']\n",
    "new_train_df[\"label\"].value_counts()"
   ]
  },
  {
   "cell_type": "code",
   "execution_count": 176,
   "metadata": {},
   "outputs": [
    {
     "output_type": "stream",
     "name": "stdout",
     "text": [
      "초대 준남작, 제임스 니콜라스 서덜랜드 매터슨(, ,  [[ 1796년 ]]   [[ 11월_17일 ]]  -  [[ 1878년 ]]   [[ 12월_31일 ]] )은  [[ 영국 ]]   [[ 스코틀랜드 ]] 의 사업가로  [[ _obj_ ]] 과 함께  [[ _sbj_ ]]  상회를 설립했다.\n(144, 155)\n(126, 137)\n자딘_매터슨\n윌리엄_자딘\n초대 준남작, 제임스 니콜라스 서덜랜드 매터슨(, ,  [[ 1796년 ]]   [[ 11월_17일 ]]  -  [[ 1878년 ]]   [[ 12월_31일 ]] )은  [[ 영국 ]]   [[ 스코틀랜드 ]] 의 사업가로  윌리엄_자딘 과 함께  자딘_매터슨  상회를 설립했다.\n 미국 최초의 흑인  [[ 퍼스트_레이디 ]]   [[ 미셸_오바마 ]] , 전 부통령  [[ 에런_버 ]] , 전 국방부 장관  [[ 도널드_럼즈펠드 ]] , 전 국무장관  [[ 존_포스터_덜레스 ]] , '봉쇄정책의 아버지'로 알려진 외교관  [[ 조지_케넌 ]] ,  [[ 미국_연방대법원 ]]  대법관  [[ 소니아_소토마요르 ]] 와  [[ 엘레나_케이건 ]] , 《 [[ 포브스 ]] 》지 발행인  [[ 스티브_포브스 ]] ,  [[ 구글 ]] 의 CEO  [[ 에릭_슈밋 ]] ,  [[ 이베이 ]] 의 CEO  [[ 메그_휘트먼 ]] ,  [[ _sbj_ ]]  설립자  [[ _obj_ ]] ,  [[ 노벨_물리학상 ]]   [[ 리처드_파인만 ]] , '컴퓨터 과학의 아버지'  [[ 앨런_튜링 ]] ,  [[ 필즈상 ]] 을 수상한 수학자  [[ 테렌스_타오 ]] ,  [[ 존_밀너 ]] , 만줄 바르가바와 물리학자  [[ 에드워드_위튼 ]] ,  [[ 아벨상 ]] 을 수상한 수학자  [[ 존_테이트 ]] ,  [[ 야코프_그리고리예비치_시나이 ]] 도 프린스턴을 졸업했다.\n(310, 321)\n(328, 339)\n아마존닷컴\n제프_베조스\n 미국 최초의 흑인  [[ 퍼스트_레이디 ]]   [[ 미셸_오바마 ]] , 전 부통령  [[ 에런_버 ]] , 전 국방부 장관  [[ 도널드_럼즈펠드 ]] , 전 국무장관  [[ 존_포스터_덜레스 ]] , '봉쇄정책의 아버지'로 알려진 외교관  [[ 조지_케넌 ]] ,  [[ 미국_연방대법원 ]]  대법관  [[ 소니아_소토마요르 ]] 와  [[ 엘레나_케이건 ]] , 《 [[ 포브스 ]] 》지 발행인  [[ 스티브_포브스 ]] ,  [[ 구글 ]] 의 CEO  [[ 에릭_슈밋 ]] ,  [[ 이베이 ]] 의 CEO  [[ 메그_휘트먼 ]] ,  아마존닷컴  설립자  제프_베조스 노벨_물리학상 ]]   [[ 리처드_파인만 ]] , '컴퓨터 과학의 아버지'  [[ 앨런_튜링 ]] ,  [[ 필즈상 ]] 을 수상한 수학자  [[ 테렌스_타오 ]] ,  [[ 존_밀너 ]] , 만줄 바르가바와 물리학자  [[ 에드워드_위튼 ]] ,  [[ 아벨상 ]] 을 수상한 수학자  [[ 존_테이트 ]] ,  [[ 야코프_그리고리예비치_시나이 ]] 도 프린스턴을 졸업했다.\n  [[ _obj_ ]] 과 함께 쓴 《 [[ _sbj_ ]] 》(2009), 《 [[ 지.아이.조_2 ]] 》(2013), 《 [[ 데드풀_(영화) ]] 》(2016)이 알려져 있다.\n(23, 34)\n(2, 13)\n좀비랜드\n폴_워닉\n  폴_워닉 과 함께 쓴 《 좀비랜드 》(2009), 《 [[ 지.아이.조_2 ]] 》(2013), 《 [[ 데드풀_(영화) ]] 》(2016)이 알려져 있다.\n정화(政和)는  [[ _sbj_ ]] 의 휘종(徽宗)인  [[ _obj_ ]] 의 치세에 쓰였던  [[ 연호 ]] 이다.\n(9, 20)\n(32, 43)\n북송\n북송_휘종\n정화(政和)는  북송 의 휘종(徽宗)인  북송_휘종던  [[ 연호 ]] 이다.\n  [[ 1992년 ]] , 자신이 존경했던 힙합 그룹  [[ _sbj_ ]] 의 멤버인  [[ _obj_ ]] 가 해체 후 솔로 활동을 하면서 \"Black Korea\"라는 곡을 통해 한인에 대한 곡을 발표하였다.\n(32, 43)\n(51, 62)\nN.W.A\n아이스_큐브\n  [[ 1992년 ]] , 자신이 존경했던 힙합 그룹  N.W.A 의 멤버인  아이스_큐브후 솔로 활동을 하면서 \"Black Korea\"라는 곡을 통해 한인에 대한 곡을 발표하였다.\n  [[ 프레더릭_포사이스 ]]  원작의 《재칼의 날, \"The Day of the Jackal\"》,  [[ _obj_ ]]  원작의 《 [[ _sbj_ ]] , \"The Hunt for Red October\"》,  [[ 토머스_해리스 ]]  원작의 《 [[ 양들의_침묵 ]] 》,  [[ 마이클_크라이튼 ]]  원작의 《 [[ 쥬라기_공원 ]] 》, 《콩고 \"Congo\"》,  [[ 댄_브라운 ]] 이 쓴 《 [[ 다빈치_코드 ]] 》 등이 있다.\n(77, 88)\n(58, 69)\n붉은_10월\n톰_클랜시\n  [[ 프레더릭_포사이스 ]]  원작의 《재칼의 날, \"The Day of the Jackal\"》,  톰_클랜시  원작의 《 붉은_10월 , \"The Hunt for Red October\"》,  [[ 토머스_해리스 ]]  원작의 《 [[ 양들의_침묵 ]] 》,  [[ 마이클_크라이튼 ]]  원작의 《 [[ 쥬라기_공원 ]] 》, 《콩고 \"Congo\"》,  [[ 댄_브라운 ]] 이 쓴 《 [[ 다빈치_코드 ]] 》 등이 있다.\n삼학사(三學士)는  [[ 1637년 ]]   [[ 병자호란 ]]  때  [[ 조선 ]] 이 중국  [[ _obj_ ]] 에 항복하는 것을 반대하고 척화론(斥和論)을 주장했다가 청나라에 잡혀가 참혹한 죽음을 당했던 척화파의 강경론자 세 사람, 즉  [[ 홍익한 ]] ,  [[ 윤집 ]] ,  [[ _sbj_ ]] 를 일컫는 말이다.\n(163, 174)\n(55, 66)\n오달제\n청나라\n삼학사(三學士)는  [[ 1637년 ]]   [[ 병자호란 ]]  때  [[ 조선 ]] 이 중국  청나라 에 항복하는 것을 반대하고 척화론(斥和論)을 주장했다가 청나라에 잡혀가 참혹한 죽음을 당했던 척화파의 강경론자 세 사람, 즉  [[ 홍익한 ]] ,  [[ 윤집 ]] ,  오달제 를 일컫는 말이다.\n1. \" [[ _sbj_ ]] \" ( [[ 이은하 ]]  작사 /  [[ _obj_ ]]  작곡) - 03:00\n(5, 16)\n(38, 49)\n미소를_띄우며_나를_보낸_그_모습처럼_(이은하의_노래)\n장덕\n1. \" 미소를_띄우며_나를_보낸_그_모습처럼_(이은하의_노래) \" ( [[ 이은하 ]]  작사 /  장덕  작사 /  [[ _obj_ ]]  작곡) - 03:00\n《 [[ 졸업_(디지털싱글) ]] 》은  [[ _sbj_ ]] 의  [[ _obj_ ]] ,  [[ 조권 ]] 이  [[ 2009년 ]]  발표한 디지털 싱글 앨범이다.\n(23, 34)\n(38, 49)\n2AM\n이창민_(1986년)\n《 [[ 졸업_(디지털싱글) ]] 》은  2AM 의  이창민_(1986년)권 ]] 이  [[ 2009년 ]]  발표한 디지털 싱글 앨범이다.\n리처드 욤쇼프 (,  [[ 1969년 ]]   [[ 3월_17일 ]]  ~) 은  [[ 스웨덴 ]] 의 정치인으로,  [[ _obj_ ]] ,  [[ 사회보수주의 ]] ,  [[ 우익대중주의 ]] ,  [[ 유럽회의주의 ]]  정당인  [[ _sbj_ ]]  ()의 원내대표이다.\n(132, 143)\n(66, 77)\n스웨덴_민주당\n민족주의\n리처드 욤쇼프 (,  [[ 1969년 ]]   [[ 3월_17일 ]]  ~) 은  [[ 스웨덴 ]] 의 정치인으로,  민족주의 ,  [[ 사회보수주의 ]] ,  [[ 우익대중주의 ]] ,  [[ 유럽회의주의 ]]  정당인  스웨덴_민주당  ()의 원내대표이다.\n현존하는 주요  [[ _obj_ ]] ,  [[ 사회민주주의 ]] 정당인  [[ _sbj_ ]] 과  [[ 노동당_(대한민국) ]] 은 아직까진 참여하지 않는 상태이며, 정의당은 가입하기 위해 노력하는 중이다.\n(42, 53)\n(9, 20)\n정의당_(대한민국)\n민주사회주의\n현존하는 주요  민주사회주의 ,  [[ 사회민주주의 ]] 정당인  정의당_(대한민국) 과  [[ 노동당_(대한민국) ]] 은 아직까진 참여하지 않는 상태이며, 정의당은 가입하기 위해 노력하는 중이다.\n심사손은  [[ 조선_중종 ]]  때,  [[ 좌의정 ]] 을 지낸 화천부원군(花川府院君)  [[ _sbj_ ]] (沈貞)의 차남으로,  [[ 조선_중종 ]]  때,  [[ 홍문관 ]]   [[ 부제학 ]] 을 지낸  [[ _obj_ ]] (沈思順)의 형이고,  [[ 조선_선조 ]]  때,  [[ 좌의정 ]] 을 지낸 청백리  [[ 심수경 ]] (沈守慶)의 아버지이다.\n(52, 63)\n(122, 133)\n심정_(1471년)\n심사순\n심사손은  [[ 조선_중종 ]]  때,  [[ 좌의정 ]] 을 지낸 화천부원군(花川府院君)  심정_(1471년) (沈貞)의 차남으로,  [[ 조선_중종 ]]  때,  [[ 홍문관 ]]   [[ 부제학 ]] 을 지낸  심사순(沈思順)의 형이고,  [[ 조선_선조 ]]  때,  [[ 좌의정 ]] 을 지낸 청백리  [[ 심수경 ]] (沈守慶)의 아버지이다.\n부퍼탈 SV(Wuppertaler SV)는  [[ _obj_ ]]   [[ 노르트라인베스트팔렌_주 ]] 의 도시인  [[ _sbj_ ]] 의 축구 클럽으로, 현재  [[ 레기오날리가 ]]  서부 리그에서 활동하고 있다.\n(65, 76)\n(25, 36)\n부퍼탈\n독일\n부퍼탈 SV(Wuppertaler SV)는  독일   [[ 노르트라인베스트팔렌_주 ]] 의 도시인  부퍼탈 의 축구 클럽으로, 현재  [[ 레기오날리가 ]]  서부 리그에서 활동하고 있다.\n한때  [[ 차이나_(프로레슬링_선수) ]] 와 연인이기도 했으나  [[ _sbj_ ]]  회장  [[ _obj_ ]] 의 딸  [[ 스테파니_맥마흔 ]] 과 결혼했다.\n(38, 49)\n(55, 66)\nWWE\n빈스_맥마흔\n한때  [[ 차이나_(프로레슬링_선수) ]] 와 연인이기도 했으나  WWE  회장  빈스_맥마흔 스테파니_맥마흔 ]] 과 결혼했다.\n2010년 폴란드 공군 Tu-154 추락사고는  [[ 2010년 ]]   [[ 4월_10일 ]] ,  [[ 폴란드 ]] 의  [[ _sbj_ ]]  대통령 등이 탑승한 폴란드 공군 소속  [[ 투폴레프_Tu-154 ]] 가  [[ 러시아 ]]   [[ _obj_ ]]  인근에서 추락하여 탑승자 전원이 사망한 사건이다.\n(70, 81)\n(138, 149)\n레흐_카친스키\n스몰렌스크\n2010년 폴란드 공군 Tu-154 추락사고는  [[ 2010년 ]]   [[ 4월_10일 ]] ,  [[ 폴란드 ]] 의  레흐_카친스키  대통령 등이 탑승한 폴란드 공군 소속  [[ 투폴레프_Tu-154 ]] 가  [[ 러시아 ]]   스몰렌스크에서 추락하여 탑승자 전원이 사망한 사건이다.\n2000년,  [[ _sbj_ ]] 에서 활동한 기타리스트  [[ _obj_ ]] 과 안치환과 자유의 드러머였던 나성호를 주축으로 결성되었다.\n(8, 19)\n(34, 45)\nYB_(밴드)\n유병열\n2000년,  YB_(밴드) 에서 활동한 기타리스트  유병열치환과 자유의 드러머였던 나성호를 주축으로 결성되었다.\n산타페(Santa Fe)는  [[ _obj_ ]]   [[ _sbj_ ]] 의 주도이다.\n(30, 41)\n(16, 27)\n산타페_주\n아르헨티나\n산타페(Santa Fe)는  아르헨티나   산타페_주 의 주도이다.\n해링턴은  [[ 1996년 ]] 에  [[ _obj_ ]] 과 함께  [[ _sbj_ ]] 을 공동으로 설립하였다.\n(39, 50)\n(21, 32)\n밸브_코퍼레이션\n게이브_뉴얼\n해링턴은  [[ 1996년 ]] 에  게이브_뉴얼 과 함께  밸브_코퍼레이션 을 공동으로 설립하였다.\n [[ _sbj_ ]] 은  [[ _obj_ ]] 의 노래이다.\n(1, 12)\n(16, 27)\nStop!_(샘_브라운의_노래)\n샘_브라운_(가수)\n Stop!_(샘_브라운의_노래) 은  샘_브라운_(가수)bj_ ]] 의 노래이다.\n2013년에는  [[ _obj_ ]] 의  [[ Wii_U ]] ,  [[ _sbj_ ]] ,  [[ 마이크로소프트 ]] 의  [[ 엑스박스_원 ]] ,  [[ 소니 ]] 의  [[ 플레이스테이션_4 ]] 와  [[ 플레이스테이션_비타 ]] 를 포함하여 8세대 게임 콘솔이 등장하였다.\n(39, 50)\n(9, 20)\n닌텐도_3DS\n닌텐도\n2013년에는  닌텐도 의  [[ Wii_U ]] ,  닌텐도_3DS ,  [[ 마이크로소프트 ]] 의  [[ 엑스박스_원 ]] ,  [[ 소니 ]] 의  [[ 플레이스테이션_4 ]] 와  [[ 플레이스테이션_비타 ]] 를 포함하여 8세대 게임 콘솔이 등장하였다.\n  [[ 1983년 ]] 에  [[ 오디션 ]]  방송 《스타 탄생!》() 제46회 결전대회에서  [[ _obj_ ]] 의 〈 [[ _sbj_ ]] 〉을 불러 우승을 차지하고 연예계에 입문했다.\n(71, 82)\n(55, 66)\n슬로우_모션_(노래)\n나카모리_아키나\n  [[ 1983년 ]] 에  [[ 오디션 ]]  방송 《스타 탄생!》() 제46회 결전대회에서  나카모리_아키나 의 〈 슬로우_모션_(노래) 〉을 불러 우승을 차지하고 연예계에 입문했다.\n2014년 5월에는 미국의 가수  [[ _obj_ ]] 의 싱글 \" [[ _sbj_ ]] \"을 피쳐링했다.\n(38, 49)\n(19, 30)\nProblem\n아리아나_그란데\n2014년 5월에는 미국의 가수  아리아나_그란데 의 싱글 \" Problem \"을 피쳐링했다.\nAll The Lost Souls(올 더 로스트 소울)은  [[ _obj_ ]] 의  [[ 싱어송라이터 ]]   [[ _sbj_ ]] 의 두 번째  [[ 정규_음반 ]] 이다.\n(63, 74)\n(33, 44)\n제임스_블런트\n영국\nAll The Lost Souls(올 더 로스트 소울)은  영국 의  [[ 싱어송라이터 ]]   제임스_블런트 의 두 번째  [[ 정규_음반 ]] 이다.\n엘우에드(, )는  [[ _obj_ ]] 의 도시로  [[ _sbj_ ]] 의 주도이며 면적은 77.0㎢, 높이는 76m, 인구는 134,699명(2008년 기준), 인구 밀도는 1,700명/㎢이다.\n(30, 41)\n(11, 22)\n엘우에드_주\n알제리\n엘우에드(, )는  알제리 의 도시로  엘우에드_주 의 주도이며 면적은 77.0㎢, 높이는 76m, 인구는 134,699명(2008년 기준), 인구 밀도는 1,700명/㎢이다.\n《Good-bye My Loneliness》는 일본의 밴드  [[ _obj_ ]] 의 첫 번째 정규 앨범이자 동시에 데뷔 앨범이며, 그들의 첫 데뷔곡 〈 [[ _sbj_ ]] 〉가 발매된 지 불과 2개월이 채 안되었던 1991년 3월 27일 발매되었다.\n(86, 97)\n(34, 45)\nGood-bye_My_Loneliness\nZARD\n《Good-bye My Loneliness》는 일본의 밴드  ZARD 의 첫 번째 정규 앨범이자 동시에 데뷔 앨범이며, 그들의 첫 데뷔곡 〈 Good-bye_My_Loneliness 〉가 발매된 지 불과 2개월이 채 안되었던 1991년 3월 27일 발매되었다.\n《노부나가의 야망 전국판》()은  [[ _sbj_ ]] 에서 발매된  [[ 역사_시뮬레이션_게임 ]] 으로, 전작 《 [[ 노부나가의_야망_(게임) ]] 》에 이은  [[ _obj_ ]] 의 두 번째 작품이다.\n(19, 30)\n(93, 104)\n코에이\n노부나가의_야망_시리즈\n《노부나가의 야망 전국판》()은  코에이 에서 발매된  [[ 역사_시뮬레이션_게임 ]] 으로, 전작 《 [[ 노부나가의_야망_(게임) ]] 》에 이은  노부나가의_야망_시리즈작품이다.\n 이 즉위식에는 네덜란드의  [[ 베아트릭스 ]]  여왕 및 앙리의 외숙부인  [[ _obj_ ]] , 외숙모  [[ _sbj_ ]]  등이 참석했다.\n(63, 74)\n(44, 55)\n벨기에_왕비_파올라\n알베르_2세_(벨기에)\n 이 즉위식에는 네덜란드의  [[ 베아트릭스 ]]  여왕 및 앙리의 외숙부인  알베르_2세_(벨기에) , 외숙모  벨기에_왕비_파올라  등이 참석했다.\n삼성 갤럭시 노트 7 리콜 사태는 2016년 8월에 출시한  [[ _obj_ ]] 의 프리미엄 스마트폰  [[ _sbj_ ]] (모델명:SM-N930)이 배터리 결함에 의한 발화 사건으로 인해 전량  [[ 리콜 ]]  된 후 리콜된 교환 제품도 재발화로 2차 리콜되며 단종 되기까지의 일련의 사태를 말한다.\n(59, 70)\n(34, 45)\n삼성_갤럭시_노트_7\n삼성전자\n삼성 갤럭시 노트 7 리콜 사태는 2016년 8월에 출시한  삼성전자 의 프리미엄 스마트폰  삼성_갤럭시_노트_7 (모델명:SM-N930)이 배터리 결함에 의한 발화 사건으로 인해 전량  [[ 리콜 ]]  된 후 리콜된 교환 제품도 재발화로 2차 리콜되며 단종 되기까지의 일련의 사태를 말한다.\n 가곡 그리워와 조국의 작곡자이며  [[ 바이올린 ]]  연주가 겸  [[ _obj_ ]]   [[ _sbj_ ]] (蔡東鮮)과  [[ 소프라노 ]]   [[ 성악가 ]]  겸  [[ 피아노 ]]  연주가  [[ 채선엽 ]] (蔡善葉)의 남동생이며 한국 최초의  [[ 물리학 ]]  분야 전공  [[ 자연과학 ]]  [[ 박사 ]]   [[ 최규남 ]] (崔奎南)의 처남이기도 하다.\n(53, 64)\n(39, 50)\n채동선\n작곡가\n 가곡 그리워와 조국의 작곡자이며  [[ 바이올린 ]]  연주가 겸  작곡가   채동선 (蔡東鮮)과  [[ 소프라노 ]]   [[ 성악가 ]]  겸  [[ 피아노 ]]  연주가  [[ 채선엽 ]] (蔡善葉)의 남동생이며 한국 최초의  [[ 물리학 ]]  분야 전공  [[ 자연과학 ]]  [[ 박사 ]]   [[ 최규남 ]] (崔奎南)의 처남이기도 하다.\n 그는 죽기 직전에 맏아들  [[ _obj_ ]] 의 둘째 아들  [[ _sbj_ ]] 를 후계자로 지목했다.\n(37, 48)\n(16, 27)\n피르_무함마드_이븐_자한기르\n자한기르_(티무르_왕조)\n 그는 죽기 직전에 맏아들  자한기르_(티무르_왕조) 의 둘째 아들  피르_무함마드_이븐_자한기르 를 후계자로 지목했다.\n고려 명장 충렬공  [[ 김방경 ]] 의 후손.  [[ 조선 ]] 의  [[ 개국공신 ]] 인 익원공  [[ 김사형 ]] 의 후손으로,  [[ 조선_세조 ]]  즉위에 공을 세운  [[ 좌의정 ]]   [[ _sbj_ ]] (金石質)의 넷째 아들이며 어머니는 동래정씨로  [[ 의정부 ]]  [[ 영의정 ]] 을 지낸  [[ _obj_ ]] (鄭昌孫)의 딸이다.\n(113, 124)\n(179, 190)\n김질_(1422년)\n정창손\n고려 명장 충렬공  [[ 김방경 ]] 의 후손.  [[ 조선 ]] 의  [[ 개국공신 ]] 인 익원공  [[ 김사형 ]] 의 후손으로,  [[ 조선_세조 ]]  즉위에 공을 세운  [[ 좌의정 ]]   김질_(1422년) (金石質)의 넷째 아들이며 어머니는 동래정씨로  [[ 의정부 ]]  [[ 영의정 ]] 을 지낸  정창손(鄭昌孫)의 딸이다.\nIndigo은  [[ _obj_ ]] 의  [[ 정규_음반 ]]  3집 《 [[ _sbj_ ]] 》에 수록된 곡으로  [[ 인디고 ]]  빛깔의 밤 하늘을 바라보며 만든 로맨틱한 곡이다.\n(42, 53)\n(9, 20)\nFrom_The_Yellow_Room\n이루마\nIndigo은  이루마 의  [[ 정규_음반 ]]  3집 《 From_The_Yellow_Room 》에 수록된 곡으로  [[ 인디고 ]]  빛깔의 밤 하늘을 바라보며 만든 로맨틱한 곡이다.\n  [[ 2012년 ]]  10월 4일부터 12월 19일까지  [[ _sbj_ ]] 에서 제작한  [[ _obj_ ]]  제 1기가 방송되었으며 그 뒤 2014년 1월 8일부터 3월 26일까지 제 2기인 '중2병이라도 사랑이 하고 싶어! -연-'이 도쿄 MX에서 방영되었다.\n(35, 46)\n(55, 66)\n교토_애니메이션\n애니메이션\n  [[ 2012년 ]]  10월 4일부터 12월 19일까지  교토_애니메이션 에서 제작한  애니메이션 1기가 방송되었으며 그 뒤 2014년 1월 8일부터 3월 26일까지 제 2기인 '중2병이라도 사랑이 하고 싶어! -연-'이 도쿄 MX에서 방영되었다.\n 경제 4년(기원전 153년)  [[ _obj_ ]] 의 10남  [[ _sbj_ ]] 에게 봉해져 다시 교동나라가 됐으나 이 과정에서  [[ 동래군_(중국) ]] 이 교동군에서 분할돼 교동나라는 오초칠국의 난 이전보다 축소됐다.\n(37, 48)\n(18, 29)\n전한_무제\n전한_경제\n 경제 4년(기원전 153년)  전한_경제 의 10남  전한_무제 에게 봉해져 다시 교동나라가 됐으나 이 과정에서  [[ 동래군_(중국) ]] 이 교동군에서 분할돼 교동나라는 오초칠국의 난 이전보다 축소됐다.\n  [[ 의정부 ]]  [[ 영의정 ]]  심재  [[ 서용보 ]] 의 종손이고,  [[ 갑신정변 ]] 의 주역인 개화파  [[ _sbj_ ]] 의 삼종조부,  [[ _obj_ ]] 의 종증조부뻘 되는 친척이기도 하다.\n(69, 80)\n(90, 101)\n서광범\n서재필\n  [[ 의정부 ]]  [[ 영의정 ]]  심재  [[ 서용보 ]] 의 종손이고,  [[ 갑신정변 ]] 의 주역인 개화파  서광범 의 삼종조부,  서재필 되는 친척이기도 하다.\n  [[ _sbj_ ]] 의 차남  [[ _obj_ ]] 의 15대손이며  [[ 대한민국 ]] 의 정치인  [[ 이기붕 ]] 의 증조 할아버지이다.\n(2, 13)\n(20, 31)\n조선_태종\n효령대군\n  조선_태종 의 차남  효령대군손이며  [[ 대한민국 ]] 의 정치인  [[ 이기붕 ]] 의 증조 할아버지이다.\n 작곡자  [[ _obj_ ]] 은  [[ _sbj_ ]] 를 작곡한 조선민주주의인민공화국의 대표적인 음악가로, 조선민주주의인민공화국  [[ 최고인민회의 ]]  상임위원회에서는 2006년 평양음악대학의 이름을  [[ 김원균평양음악대학 ]] 으로 개칭하였다.\n(21, 32)\n(6, 17)\n김일성_장군의_노래\n김원균\n 작곡자  김원균 은  김일성_장군의_노래 를 작곡한 조선민주주의인민공화국의 대표적인 음악가로, 조선민주주의인민공화국  [[ 최고인민회의 ]]  상임위원회에서는 2006년 평양음악대학의 이름을  [[ 김원균평양음악대학 ]] 으로 개칭하였다.\n카스텔델몬테()는  [[ _obj_ ]]   [[ 아브루초_주 ]]   [[ _sbj_ ]] 에 있는  [[ 코무네 ]] 이다.\n(40, 51)\n(11, 22)\n라퀼라_현\n이탈리아\n카스텔델몬테()는  이탈리아   [[ 아브루초_주 ]]   라퀼라_현 에 있는  [[ 코무네 ]] 이다.\n 이어 2월 개봉한  [[ _obj_ ]]  감독의 《 [[ _sbj_ ]] 》에는  [[ 장동건 ]] (이진태 역)의 약혼녀 영신 역으로 출연하였다.\n(31, 42)\n(12, 23)\n태극기_휘날리며\n강제규\n 이어 2월 개봉한  강제규  감독의 《 태극기_휘날리며 》에는  [[ 장동건 ]] (이진태 역)의 약혼녀 영신 역으로 출연하였다.\n벤틀리 컨티넨탈()은  [[ _obj_ ]] 의 자회사이자  [[ 영국 ]] 의 수공 자동차 회사인  [[ _sbj_ ]] 에서 제조하는 자동차 모델이다.\n(57, 68)\n(13, 24)\n벤틀리\n폭스바겐_AG\n벤틀리 컨티넨탈()은  폭스바겐_AG 의 자회사이자  [[ 영국 ]] 의 수공 자동차 회사인  벤틀리 에서 제조하는 자동차 모델이다.\n 이후  [[ 2006년 ]]   [[ 김태균_(영화_감독) ]]  감독의 《 [[ 백만장자의_첫사랑 ]] 》과  [[ 2007년 ]]   [[ _obj_ ]]  감독의《 [[ _sbj_ ]] 》등 다른 영화에서도 조연으로 활약하였다.\n(96, 107)\n(78, 89)\n1번가의_기적\n윤제균\n 이후  [[ 2006년 ]]   [[ 김태균_(영화_감독) ]]  감독의 《 [[ 백만장자의_첫사랑 ]] 》과  [[ 2007년 ]]   윤제균  감독의《 1번가의_기적 》등 다른 영화에서도 조연으로 활약하였다.\n 이 두 지향방향은 모두  [[ _obj_ ]] 의 책  [[ _sbj_ ]] 에서 나온 것이다.\n(32, 43)\n(15, 26)\n이기적_유전자\n리처드_도킨스\n 이 두 지향방향은 모두  리처드_도킨스 의 책  이기적_유전자 에서 나온 것이다.\n 사촌여동생은  [[ _sbj_ ]] 의 전 멤버  [[ _obj_ ]] 이다.\n(9, 20)\n(29, 40)\n카라_(음악_그룹)\n강지영\n 사촌여동생은  카라_(음악_그룹) 의 전 멤버  강지영이다.\n모토로라 디파이+(Motorola Defy+) 또는 모토로라 디파이 플러스(Motorola Defy Plus)는  [[ _sbj_ ]] 에서 제조/판매하는  [[ 안드로이드_(운영_체제) ]]   [[ _obj_ ]] 이다.\n(64, 75)\n(110, 121)\n모토로라_모빌리티\n스마트폰\n모토로라 디파이+(Motorola Defy+) 또는 모토로라 디파이 플러스(Motorola Defy Plus)는  모토로라_모빌리티 에서 제조/판매하는  [[ 안드로이드_(운영_체제) ]]   스마트폰다.\n가족은 아버지  [[ _obj_ ]] 과 어머니  [[ _sbj_ ]] , 여동생  [[ 스테퍼니_맥마흔 ]] 이 있고,  [[ 트리플_H ]] 의 처남이기도 하다.\n(28, 39)\n(9, 20)\n린다_맥마흔\n빈스_맥마흔\n가족은 아버지  빈스_맥마흔 과 어머니  린다_맥마흔 , 여동생  [[ 스테퍼니_맥마흔 ]] 이 있고,  [[ 트리플_H ]] 의 처남이기도 하다.\n그녀의 인생에 있어 전환점이 된 22살에, 그녀는 덴마크 감독  [[ 로네_시에비 ]] 이 감독을 맡고  [[ _obj_ ]] 가 각본을 쓴 2009년의 독립 영화 《 [[ _sbj_ ]] 》에서 주연인 제니에 캐스팅되었다.\n(94, 105)\n(59, 70)\n언_애듀케이션\n닉_혼비\n그녀의 인생에 있어 전환점이 된 22살에, 그녀는 덴마크 감독  [[ 로네_시에비 ]] 이 감독을 맡고  닉_혼비 가 각본을 쓴 2009년의 독립 영화 《 언_애듀케이션 》에서 주연인 제니에 캐스팅되었다.\n 8월에는  [[ _obj_ ]] 의 포터블 오디오 ‘ [[ _sbj_ ]] ’인 NW-A16에 본작과 《아노하나》를 컬레버레이션한 “워크맨 A 시리즈 ‘코코사케’×‘아노하나’ 컬레버레이션 모델”이 소니 스토어에서 한정으로 발매됐다.\n(31, 42)\n(7, 18)\n워크맨\n소니\n 8월에는  소니 의 포터블 오디오 ‘ 워크맨 ’인 NW-A16에 본작과 《아노하나》를 컬레버레이션한 “워크맨 A 시리즈 ‘코코사케’×‘아노하나’ 컬레버레이션 모델”이 소니 스토어에서 한정으로 발매됐다.\n딸  [[ _obj_ ]] (여성 4인조 그룹 전  [[ _sbj_ ]]  멤버)\n(29, 40)\n(3, 14)\n쥬얼리\n하주연\n딸  하주연 (여성 4인조 그룹 전  쥬얼리  멤버)\n 그는  [[ 을미사변 ]]  때  [[ _obj_ ]]  건청궁에서 있었던  [[ _sbj_ ]]  시해 사건을 직접 목격한 2명의 외국인 중 한 사람이기도 하다.\n(44, 55)\n(20, 31)\n명성황후\n경복궁\n 그는  [[ 을미사변 ]]  때  경복궁  건청궁에서 있었던  명성황후  시해 사건을 직접 목격한 2명의 외국인 중 한 사람이기도 하다.\n 그녀는 《 [[ _sbj_ ]] 》에서의 블랙 위도우 역을 연기하기로  [[ _obj_ ]]  감독이 택한 첫 번째 배우였으나, 《 [[ 걸리버_여행기_(2010년_영화) ]] 》의 일정 문제로 인해 배역을  [[ 스칼렛_요한슨 ]] 에게 어쩔수 없이 넘겨주었다.\n(7, 18)\n(41, 52)\n아이언맨_2\n존_패브로\n 그녀는 《 아이언맨_2 》에서의 블랙 위도우 역을 연기하기로  존_패브로 택한 첫 번째 배우였으나, 《 [[ 걸리버_여행기_(2010년_영화) ]] 》의 일정 문제로 인해 배역을  [[ 스칼렛_요한슨 ]] 에게 어쩔수 없이 넘겨주었다.\n:  [[ 아파르트헤이트 ]]  체제 시절에는  [[ 좌익 ]]  정당은 금지되었으며,  [[ 우익 ]] 정당이나  [[ 자유주의 ]]  정당은 활동 가능했으나, 당시 투표권은 백인에게만 주어졌기에  [[ _obj_ ]] 적, 백인지배적인  [[ _sbj_ ]] 이 거이 모든 의석을 차지하였다.\n(135, 146)\n(112, 123)\n국민당_(남아프리카_공화국)\n백인우월주의\n:  [[ 아파르트헤이트 ]]  체제 시절에는  [[ 좌익 ]]  정당은 금지되었으며,  [[ 우익 ]] 정당이나  [[ 자유주의 ]]  정당은 활동 가능했으나, 당시 투표권은 백인에게만 주어졌기에  백인우월주의 적, 백인지배적인  국민당_(남아프리카_공화국) 이 거이 모든 의석을 차지하였다.\n서양 최초의 역사가이기에 역사의 아버지라고 불리는  [[ _obj_ ]] 는 《 [[ _sbj_ ]] 》를 저술했다.\n(45, 56)\n(29, 40)\n역사_(헤로도토스)\n헤로도토스\n서양 최초의 역사가이기에 역사의 아버지라고 불리는  헤로도토스 는 《 역사_(헤로도토스) 》를 저술했다.\n  [[ 록 ]]  밴드  [[ _sbj_ ]] 의 리드 보컬  [[ _obj_ ]] 과  [[ 싱어송라이터 ]]  펄 로의 딸이다.\n(15, 26)\n(36, 47)\n부시_(밴드)\n개빈_로즈데일\n  [[ 록 ]]  밴드  부시_(밴드) 의 리드 보컬  개빈_로즈데일[[ 싱어송라이터 ]]  펄 로의 딸이다.\n 같은 해, 가필드는  [[ 가즈오_이시구로 ]] 의 2005년 소설 《 [[ 나를_보내지마 ]] 》를 원작으로 한  [[ _obj_ ]]  감독 SF 디스토피아 영화 《 [[ _sbj_ ]] 》에  [[ 캐리_멀리건 ]] ,  [[ 키이라_나이틀리 ]] 와 함께 연기하였다.\n(96, 107)\n(66, 77)\n네버_렛_미_고\n마크_로마넥\n 같은 해, 가필드는  [[ 가즈오_이시구로 ]] 의 2005년 소설 《 [[ 나를_보내지마 ]] 》를 원작으로 한  마크_로마넥  감독 SF 디스토피아 영화 《 네버_렛_미_고 》에  [[ 캐리_멀리건 ]] ,  [[ 키이라_나이틀리 ]] 와 함께 연기하였다.\n 또한 12대 방조인 이계전의 후손 중에는  [[ 조선 ]]  중기의 철학자  [[ _obj_ ]] 과 화가  [[ 이산보 ]] ,  [[ 조선_선조 ]] 때  [[ 의정부 ]]  [[ 영의정 ]] 을 지낸  [[ _sbj_ ]] 가 배출되기도 했다.\n(117, 128)\n(44, 55)\n이산해\n이지함\n 또한 12대 방조인 이계전의 후손 중에는  [[ 조선 ]]  중기의 철학자  이지함 과 화가  [[ 이산보 ]] ,  [[ 조선_선조 ]] 때  [[ 의정부 ]]  [[ 영의정 ]] 을 지낸  이산해 가 배출되기도 했다.\n 다이콘3와  [[ 다이콘필름 ]] 로 관심을 끈 애니메이터  [[ _obj_ ]] ,  [[ 사다모토_요시유키 ]] ,  [[ 아카이_타카미 ]] ,  [[ 히구치_신지 ]] 는  [[ _sbj_ ]]  스튜디오를 열었다.\n(102, 113)\n(35, 46)\n가이낙스\n안노_히데아키\n 다이콘3와  [[ 다이콘필름 ]] 로 관심을 끈 애니메이터  안노_히데아키 ,  [[ 사다모토_요시유키 ]] ,  [[ 아카이_타카미 ]] ,  [[ 히구치_신지 ]] 는  가이낙스  스튜디오를 열었다.\nWii 모션플러스(Wii MotionPlus)는,  [[ _obj_ ]] 가 개발한  [[ _sbj_ ]] 용 하드웨어이다.\n(48, 59)\n(29, 40)\nWii_리모컨\n닌텐도\nWii 모션플러스(Wii MotionPlus)는,  닌텐도 가 개발한  Wii_리모컨 용 하드웨어이다.\n의정부시의 시내버스는  [[ 의정부시 ]] 를 주관으로 담당하는 시내버스로 주요 운행 업체는  [[ _obj_ ]]  계열 버스회사인  [[ _sbj_ ]] 와  [[ 명진여객 ]] 이다.\n(76, 87)\n(53, 64)\n평안운수\nKD운송그룹\n의정부시의 시내버스는  [[ 의정부시 ]] 를 주관으로 담당하는 시내버스로 주요 운행 업체는  KD운송그룹  계열 버스회사인  평안운수 와  [[ 명진여객 ]] 이다.\n  [[ 1963년 ]]   [[ 2월_25일 ]] 에 순회대사 자격으로 숙모이자 대통령  [[ _sbj_ ]] 의 아내  [[ _obj_ ]] 와 동남아 구주여행길에 나서기도 하였다.\n(51, 62)\n(69, 80)\n박정희\n육영수\n  [[ 1963년 ]]   [[ 2월_25일 ]] 에 순회대사 자격으로 숙모이자 대통령  박정희 의 아내  육영수주여행길에 나서기도 하였다.\n  [[ _obj_ ]] 의 부친  [[ _sbj_ ]] 은 조지가 매우 엄격한 아버지였다고 회고했다.\n(20, 31)\n(2, 13)\n랜돌프_처칠_경\n윈스턴_처칠\n  윈스턴_처칠 의 부친  랜돌프_처칠_경 은 조지가 매우 엄격한 아버지였다고 회고했다.\n 2008년 11월 17일에는  [[ _obj_ ]] 의 싱글 〈 [[ _sbj_ ]] 〉에 피처링으로 참여했다.\n(37, 48)\n(18, 29)\nFamily_(Special_Edition)\n마이티_마우스_(음악_그룹)\n 2008년 11월 17일에는  마이티_마우스_(음악_그룹) 의 싱글 〈 Family_(Special_Edition) 〉에 피처링으로 참여했다.\n〈Helter Skelter〉(헬터 스켈터)는  [[ 1968년 ]]  발매된  [[ _obj_ ]] 의 앨범 《 [[ _sbj_ ]] 》에 수록된 곡이다.\n(64, 75)\n(45, 56)\nThe_Beatles\n비틀즈\n〈Helter Skelter〉(헬터 스켈터)는  [[ 1968년 ]]  발매된  비틀즈 의 앨범 《 The_Beatles 》에 수록된 곡이다.\n구로몬 시장()는  [[ _obj_ ]]   [[ _sbj_ ]]   [[ 오사카_시 ]]   [[ 주오_구_(오사카_시) ]]   [[ 닛폰바시 ]] 에 있는  [[ 시장 ]] ,  [[ 상점가 ]] 이다.\n(25, 36)\n(11, 22)\n오사카_부\n일본\n구로몬 시장()는  일본   오사카_부   [[ 오사카_시 ]]   [[ 주오_구_(오사카_시) ]]   [[ 닛폰바시 ]] 에 있는  [[ 시장 ]] ,  [[ 상점가 ]] 이다.\n 이에  [[ _obj_ ]] 의  [[ _sbj_ ]] 은  [[ 강계시 ]] 를 임시 수도로 정하고  [[ 중화인민공화국 ]] 에게 지원을 요청하였다.\n(20, 31)\n(5, 16)\n김일성\n조선민주주의인민공화국\n 이에  조선민주주의인민공화국 의  김일성 은  [[ 강계시 ]] 를 임시 수도로 정하고  [[ 중화인민공화국 ]] 에게 지원을 요청하였다.\n연극배우 활약 초중반 시절이던  [[ 1990년대 ]]  중반에  [[ 연극 ]]  활동을 같이 한  [[ _obj_ ]] 로는  [[ 윤다훈 ]] ,  [[ 김동석_(1966년) ]] ,  [[ 정은표 ]] ,  [[ 엄효섭 ]] ,  [[ 성동일 ]] ,  [[ _sbj_ ]]  등이 있다.\n(146, 157)\n(57, 68)\n조승연_(배우)\n배우\n연극배우 활약 초중반 시절이던  [[ 1990년대 ]]  중반에  [[ 연극 ]]  활동을 같이 한  배우 로는  [[ 윤다훈 ]] ,  [[ 김동석_(1966년) ]] ,  [[ 정은표 ]] ,  [[ 엄효섭 ]] ,  [[ 성동일 ]] ,  조승연_(배우)  등이 있다.\n 처음으로  [[ _obj_ ]] 의  [[ _sbj_ ]] 가 부총리를 맡아 연방정부에 참여했다.\n(22, 33)\n(7, 18)\n빌리_브란트\n독일_사회민주당\n 처음으로  독일_사회민주당 의  빌리_브란트 가 부총리를 맡아 연방정부에 참여했다.\n"
     ]
    }
   ],
   "source": [
    "import re\n",
    "\n",
    "beg1 = []\n",
    "beg2 = []\n",
    "end1 = []\n",
    "end2 = []\n",
    "texts = []\n",
    "\n",
    "for txt, ent1, ent2 in zip(new_train_df[\"text\"], new_train_df[\"entity1\"], new_train_df[\"entity2\"]):\n",
    "# for txt in list(new_train_df[\"text\"]):\n",
    "    match1 = re.search(\"\\[\\[ \\_sbj\\_ \\]\\]\", txt)\n",
    "    match2 = re.search(\"\\[\\[ \\_obj\\_ \\]\\]\", txt)\n",
    "    ent1_start, ent1_end = match1.span()\n",
    "    ent2_start, ent2_end = match2.span()\n",
    "    print(txt)\n",
    "    print(match1.span())\n",
    "    print(match2.span())\n",
    "    diff_len_2 = len(ent2) - 11\n",
    "    diff_len_1 = len(ent1) - 11\n",
    "    if ent1_start > ent2_start:\n",
    "        txt = txt[:ent2_start] + ent2 + txt[ent2_end:]\n",
    "        ent2_end += diff_len_2\n",
    "        ent1_start += diff_len_2\n",
    "        txt = txt[:ent1_start] + ent1 + txt[ent1_start+11:]\n",
    "        ent1_end = ent1_start + len(ent1)\n",
    "\n",
    "    else:\n",
    "        txt = txt[:ent1_start] + ent1 + txt[ent1_start+11:]\n",
    "        ent1_end += diff_len_1\n",
    "        ent2_start += diff_len_1\n",
    "        txt = txt[:ent2_start] + ent2 + txt[ent2_end:]\n",
    "        ent2_end = ent2_start + len(ent2)\n",
    "    print(txt[ent1_start:ent1_end])\n",
    "    print(txt[ent2_start:ent2_end])\n",
    "    print(txt)\n",
    "    texts.append(txt)\n",
    "    beg1.append(ent1_start)\n",
    "    beg2.append(ent2_start)\n",
    "    end1.append(ent1_end - 1)\n",
    "    end2.append(ent2_end - 1)\n",
    "new_train_df[\"text\"] = texts\n",
    "new_train_df[\"beg1\"] = beg1\n",
    "new_train_df[\"beg2\"] = beg2\n",
    "new_train_df[\"end1\"] = end1\n",
    "new_train_df[\"end2\"] = end2\n",
    "\n"
   ]
  },
  {
   "cell_type": "code",
   "execution_count": 178,
   "metadata": {},
   "outputs": [],
   "source": [
    "new_train_df.drop(columns=[\"ans\"], inplace=True)\n",
    "new_train_df.head()\n",
    "new_train_df.to_csv(\"/opt/ml/input/data/train/gold_dataset.tsv\", sep=\"\\t\", index=False)"
   ]
  },
  {
   "cell_type": "code",
   "execution_count": 164,
   "metadata": {},
   "outputs": [
    {
     "output_type": "execute_result",
     "data": {
      "text/plain": [
       "                               id  \\\n",
       "0  wikipedia-24896-25-30-33-19-21   \n",
       "1   wikipedia-12728-224-5-7-42-44   \n",
       "2      wikipedia-28460-3-0-7-9-12   \n",
       "3    wikipedia-11479-37-24-26-3-5   \n",
       "4     wikipedia-15581-6-0-2-32-40   \n",
       "\n",
       "                                                text   entity1  beg1  end1  \\\n",
       "0  영국에서 사용되는 스포츠 유틸리티 자동차의 브랜드로는 랜드로버(Land Rover)...      랜드로버    30    33   \n",
       "1  선거에서 민주당은 해산 전 의석인 230석에 한참 못 미치는 57석(지역구 27석,...       민주당     5     7   \n",
       "2  유럽 축구 연맹(UEFA) 집행위원회는 2014년 1월 24일에 열린 회의를 통해 ...  유럽 축구 연맹     0     7   \n",
       "3  용병 공격수 챠디의 부진과 시즌 초 활약한 강수일의 침체, 시즌 중반에 영입한 세르...       강수일    24    26   \n",
       "4  람캄행 왕은 1237년에서 1247년 사이 수코타이의 왕 퍼쿤 씨 인트라팃과 쓰엉 ...       람캄행     0     2   \n",
       "\n",
       "     entity2  beg2  end2     label  \n",
       "0        자동차    19    21     단체:제작  \n",
       "1        27석    42    44     관계_없음  \n",
       "2       UEFA     9    12     단체:별칭  \n",
       "3        공격수     3     5  인물:직업/직함  \n",
       "4  퍼쿤 씨 인트라팃    32    40    인물:부모님  "
      ],
      "text/html": "<div>\n<style scoped>\n    .dataframe tbody tr th:only-of-type {\n        vertical-align: middle;\n    }\n\n    .dataframe tbody tr th {\n        vertical-align: top;\n    }\n\n    .dataframe thead th {\n        text-align: right;\n    }\n</style>\n<table border=\"1\" class=\"dataframe\">\n  <thead>\n    <tr style=\"text-align: right;\">\n      <th></th>\n      <th>id</th>\n      <th>text</th>\n      <th>entity1</th>\n      <th>beg1</th>\n      <th>end1</th>\n      <th>entity2</th>\n      <th>beg2</th>\n      <th>end2</th>\n      <th>label</th>\n    </tr>\n  </thead>\n  <tbody>\n    <tr>\n      <th>0</th>\n      <td>wikipedia-24896-25-30-33-19-21</td>\n      <td>영국에서 사용되는 스포츠 유틸리티 자동차의 브랜드로는 랜드로버(Land Rover)...</td>\n      <td>랜드로버</td>\n      <td>30</td>\n      <td>33</td>\n      <td>자동차</td>\n      <td>19</td>\n      <td>21</td>\n      <td>단체:제작</td>\n    </tr>\n    <tr>\n      <th>1</th>\n      <td>wikipedia-12728-224-5-7-42-44</td>\n      <td>선거에서 민주당은 해산 전 의석인 230석에 한참 못 미치는 57석(지역구 27석,...</td>\n      <td>민주당</td>\n      <td>5</td>\n      <td>7</td>\n      <td>27석</td>\n      <td>42</td>\n      <td>44</td>\n      <td>관계_없음</td>\n    </tr>\n    <tr>\n      <th>2</th>\n      <td>wikipedia-28460-3-0-7-9-12</td>\n      <td>유럽 축구 연맹(UEFA) 집행위원회는 2014년 1월 24일에 열린 회의를 통해 ...</td>\n      <td>유럽 축구 연맹</td>\n      <td>0</td>\n      <td>7</td>\n      <td>UEFA</td>\n      <td>9</td>\n      <td>12</td>\n      <td>단체:별칭</td>\n    </tr>\n    <tr>\n      <th>3</th>\n      <td>wikipedia-11479-37-24-26-3-5</td>\n      <td>용병 공격수 챠디의 부진과 시즌 초 활약한 강수일의 침체, 시즌 중반에 영입한 세르...</td>\n      <td>강수일</td>\n      <td>24</td>\n      <td>26</td>\n      <td>공격수</td>\n      <td>3</td>\n      <td>5</td>\n      <td>인물:직업/직함</td>\n    </tr>\n    <tr>\n      <th>4</th>\n      <td>wikipedia-15581-6-0-2-32-40</td>\n      <td>람캄행 왕은 1237년에서 1247년 사이 수코타이의 왕 퍼쿤 씨 인트라팃과 쓰엉 ...</td>\n      <td>람캄행</td>\n      <td>0</td>\n      <td>2</td>\n      <td>퍼쿤 씨 인트라팃</td>\n      <td>32</td>\n      <td>40</td>\n      <td>인물:부모님</td>\n    </tr>\n  </tbody>\n</table>\n</div>"
     },
     "metadata": {},
     "execution_count": 164
    }
   ],
   "source": [
    "original_train_df = pd.read_csv('/opt/ml/input/data/train/train.tsv', delimiter='\\t', names=['id', 'text', 'entity1', 'beg1', 'end1', 'entity2', 'beg2', 'end2', 'label'])\n",
    "original_train_df.head()"
   ]
  },
  {
   "cell_type": "code",
   "execution_count": 179,
   "metadata": {},
   "outputs": [
    {
     "output_type": "execute_result",
     "data": {
      "text/plain": [
       "  entity1 entity2   label                                               text  \\\n",
       "0  자딘_매터슨  윌리엄_자딘  단체:창립자  초대 준남작, 제임스 니콜라스 서덜랜드 매터슨(, ,  [[ 1796년 ]]   [...   \n",
       "1   아마존닷컴  제프_베조스  단체:구성원   미국 최초의 흑인  [[ 퍼스트_레이디 ]]   [[ 미셸_오바마 ]] , 전 부...   \n",
       "2    좀비랜드    폴_워닉   인물:제작    폴_워닉 과 함께 쓴 《 좀비랜드 》(2009), 《 [[ 지.아이.조_2 ]]...   \n",
       "3      북송   북송_휘종  단체:구성원        정화(政和)는  북송 의 휘종(徽宗)인  북송_휘종던  [[ 연호 ]] 이다.   \n",
       "4   N.W.A  아이스_큐브  단체:구성원    [[ 1992년 ]] , 자신이 존경했던 힙합 그룹  N.W.A 의 멤버인  아...   \n",
       "\n",
       "              id  beg1  beg2  end1  end2  \n",
       "0   foundedBy378   139   126   144   131  \n",
       "1   keyPerson373   310   322   314   327  \n",
       "2      writer375    16     2    19     5  \n",
       "3  leaderName245     9    23    10    27  \n",
       "4  pastMember254    32    45    36    50  "
      ],
      "text/html": "<div>\n<style scoped>\n    .dataframe tbody tr th:only-of-type {\n        vertical-align: middle;\n    }\n\n    .dataframe tbody tr th {\n        vertical-align: top;\n    }\n\n    .dataframe thead th {\n        text-align: right;\n    }\n</style>\n<table border=\"1\" class=\"dataframe\">\n  <thead>\n    <tr style=\"text-align: right;\">\n      <th></th>\n      <th>entity1</th>\n      <th>entity2</th>\n      <th>label</th>\n      <th>text</th>\n      <th>id</th>\n      <th>beg1</th>\n      <th>beg2</th>\n      <th>end1</th>\n      <th>end2</th>\n    </tr>\n  </thead>\n  <tbody>\n    <tr>\n      <th>0</th>\n      <td>자딘_매터슨</td>\n      <td>윌리엄_자딘</td>\n      <td>단체:창립자</td>\n      <td>초대 준남작, 제임스 니콜라스 서덜랜드 매터슨(, ,  [[ 1796년 ]]   [...</td>\n      <td>foundedBy378</td>\n      <td>139</td>\n      <td>126</td>\n      <td>144</td>\n      <td>131</td>\n    </tr>\n    <tr>\n      <th>1</th>\n      <td>아마존닷컴</td>\n      <td>제프_베조스</td>\n      <td>단체:구성원</td>\n      <td>미국 최초의 흑인  [[ 퍼스트_레이디 ]]   [[ 미셸_오바마 ]] , 전 부...</td>\n      <td>keyPerson373</td>\n      <td>310</td>\n      <td>322</td>\n      <td>314</td>\n      <td>327</td>\n    </tr>\n    <tr>\n      <th>2</th>\n      <td>좀비랜드</td>\n      <td>폴_워닉</td>\n      <td>인물:제작</td>\n      <td>폴_워닉 과 함께 쓴 《 좀비랜드 》(2009), 《 [[ 지.아이.조_2 ]]...</td>\n      <td>writer375</td>\n      <td>16</td>\n      <td>2</td>\n      <td>19</td>\n      <td>5</td>\n    </tr>\n    <tr>\n      <th>3</th>\n      <td>북송</td>\n      <td>북송_휘종</td>\n      <td>단체:구성원</td>\n      <td>정화(政和)는  북송 의 휘종(徽宗)인  북송_휘종던  [[ 연호 ]] 이다.</td>\n      <td>leaderName245</td>\n      <td>9</td>\n      <td>23</td>\n      <td>10</td>\n      <td>27</td>\n    </tr>\n    <tr>\n      <th>4</th>\n      <td>N.W.A</td>\n      <td>아이스_큐브</td>\n      <td>단체:구성원</td>\n      <td>[[ 1992년 ]] , 자신이 존경했던 힙합 그룹  N.W.A 의 멤버인  아...</td>\n      <td>pastMember254</td>\n      <td>32</td>\n      <td>45</td>\n      <td>36</td>\n      <td>50</td>\n    </tr>\n  </tbody>\n</table>\n</div>"
     },
     "metadata": {},
     "execution_count": 179
    }
   ],
   "source": [
    "gold_train_df = pd.read_csv(\"/opt/ml/input/data/train/gold_dataset.tsv\", delimiter=\"\\t\")\n",
    "gold_train_df.head()"
   ]
  },
  {
   "cell_type": "code",
   "execution_count": 182,
   "metadata": {},
   "outputs": [
    {
     "output_type": "stream",
     "name": "stdout",
     "text": [
      "랜드로버 자동차\n자딘_매터슨 윌리엄_자딘\n"
     ]
    }
   ],
   "source": [
    "beg1 = original_train_df[\"beg1\"][0]\n",
    "beg2 = original_train_df[\"beg2\"][0]\n",
    "end1 = original_train_df[\"end1\"][0]\n",
    "end2 = original_train_df[\"end2\"][0]\n",
    "txt = original_train_df[\"text\"][0]\n",
    "print(txt[beg1:end1+1], txt[beg2:end2+1])\n",
    "\n",
    "beg1 = gold_train_df[\"beg1\"][0]\n",
    "beg2 = gold_train_df[\"beg2\"][0]\n",
    "end1 = gold_train_df[\"end1\"][0]\n",
    "end2 = gold_train_df[\"end2\"][0]\n",
    "txt = gold_train_df[\"text\"][0]\n",
    "print(txt[beg1:end1+1], txt[beg2:end2+1])\n"
   ]
  },
  {
   "cell_type": "code",
   "execution_count": 190,
   "metadata": {},
   "outputs": [
    {
     "output_type": "execute_result",
     "data": {
      "text/plain": [
       "                               id  \\\n",
       "0  wikipedia-24896-25-30-33-19-21   \n",
       "1   wikipedia-12728-224-5-7-42-44   \n",
       "2      wikipedia-28460-3-0-7-9-12   \n",
       "3    wikipedia-11479-37-24-26-3-5   \n",
       "4     wikipedia-15581-6-0-2-32-40   \n",
       "\n",
       "                                                text   entity1  beg1  end1  \\\n",
       "0  영국에서 사용되는 스포츠 유틸리티 자동차의 브랜드로는 랜드로버(Land Rover)...      랜드로버    30    33   \n",
       "1  선거에서 민주당은 해산 전 의석인 230석에 한참 못 미치는 57석(지역구 27석,...       민주당     5     7   \n",
       "2  유럽 축구 연맹(UEFA) 집행위원회는 2014년 1월 24일에 열린 회의를 통해 ...  유럽 축구 연맹     0     7   \n",
       "3  용병 공격수 챠디의 부진과 시즌 초 활약한 강수일의 침체, 시즌 중반에 영입한 세르...       강수일    24    26   \n",
       "4  람캄행 왕은 1237년에서 1247년 사이 수코타이의 왕 퍼쿤 씨 인트라팃과 쓰엉 ...       람캄행     0     2   \n",
       "\n",
       "     entity2  beg2  end2     label  \n",
       "0        자동차    19    21     단체:제작  \n",
       "1        27석    42    44     관계_없음  \n",
       "2       UEFA     9    12     단체:별칭  \n",
       "3        공격수     3     5  인물:직업/직함  \n",
       "4  퍼쿤 씨 인트라팃    32    40    인물:부모님  "
      ],
      "text/html": "<div>\n<style scoped>\n    .dataframe tbody tr th:only-of-type {\n        vertical-align: middle;\n    }\n\n    .dataframe tbody tr th {\n        vertical-align: top;\n    }\n\n    .dataframe thead th {\n        text-align: right;\n    }\n</style>\n<table border=\"1\" class=\"dataframe\">\n  <thead>\n    <tr style=\"text-align: right;\">\n      <th></th>\n      <th>id</th>\n      <th>text</th>\n      <th>entity1</th>\n      <th>beg1</th>\n      <th>end1</th>\n      <th>entity2</th>\n      <th>beg2</th>\n      <th>end2</th>\n      <th>label</th>\n    </tr>\n  </thead>\n  <tbody>\n    <tr>\n      <th>0</th>\n      <td>wikipedia-24896-25-30-33-19-21</td>\n      <td>영국에서 사용되는 스포츠 유틸리티 자동차의 브랜드로는 랜드로버(Land Rover)...</td>\n      <td>랜드로버</td>\n      <td>30</td>\n      <td>33</td>\n      <td>자동차</td>\n      <td>19</td>\n      <td>21</td>\n      <td>단체:제작</td>\n    </tr>\n    <tr>\n      <th>1</th>\n      <td>wikipedia-12728-224-5-7-42-44</td>\n      <td>선거에서 민주당은 해산 전 의석인 230석에 한참 못 미치는 57석(지역구 27석,...</td>\n      <td>민주당</td>\n      <td>5</td>\n      <td>7</td>\n      <td>27석</td>\n      <td>42</td>\n      <td>44</td>\n      <td>관계_없음</td>\n    </tr>\n    <tr>\n      <th>2</th>\n      <td>wikipedia-28460-3-0-7-9-12</td>\n      <td>유럽 축구 연맹(UEFA) 집행위원회는 2014년 1월 24일에 열린 회의를 통해 ...</td>\n      <td>유럽 축구 연맹</td>\n      <td>0</td>\n      <td>7</td>\n      <td>UEFA</td>\n      <td>9</td>\n      <td>12</td>\n      <td>단체:별칭</td>\n    </tr>\n    <tr>\n      <th>3</th>\n      <td>wikipedia-11479-37-24-26-3-5</td>\n      <td>용병 공격수 챠디의 부진과 시즌 초 활약한 강수일의 침체, 시즌 중반에 영입한 세르...</td>\n      <td>강수일</td>\n      <td>24</td>\n      <td>26</td>\n      <td>공격수</td>\n      <td>3</td>\n      <td>5</td>\n      <td>인물:직업/직함</td>\n    </tr>\n    <tr>\n      <th>4</th>\n      <td>wikipedia-15581-6-0-2-32-40</td>\n      <td>람캄행 왕은 1237년에서 1247년 사이 수코타이의 왕 퍼쿤 씨 인트라팃과 쓰엉 ...</td>\n      <td>람캄행</td>\n      <td>0</td>\n      <td>2</td>\n      <td>퍼쿤 씨 인트라팃</td>\n      <td>32</td>\n      <td>40</td>\n      <td>인물:부모님</td>\n    </tr>\n  </tbody>\n</table>\n</div>"
     },
     "metadata": {},
     "execution_count": 190
    }
   ],
   "source": [
    "combined_df = pd.concat([original_train_df, gold_train_df], ignore_index=True)\n",
    "combined_df.head()"
   ]
  },
  {
   "cell_type": "code",
   "execution_count": 191,
   "metadata": {},
   "outputs": [
    {
     "output_type": "execute_result",
     "data": {
      "text/plain": [
       "관계_없음          4438\n",
       "단체:구성원          825\n",
       "인물:소속단체         680\n",
       "인물:직업/직함        555\n",
       "단체:상위_단체        337\n",
       "단체:별칭           231\n",
       "인물:출신성분/국적      211\n",
       "인물:동료           186\n",
       "단체:제작           176\n",
       "인물:부모님          166\n",
       "단체:본사_도시        136\n",
       "단체:본사_국가        115\n",
       "인물:별칭           103\n",
       "인물:배우자           95\n",
       "인물:자녀            87\n",
       "단체:하위_단체         79\n",
       "인물:제작            74\n",
       "단체:창립일           67\n",
       "인물:기타_친족         61\n",
       "인물:형제/자매/남매      52\n",
       "단체:창립자           47\n",
       "인물:사망_일시         45\n",
       "단체:모회사           44\n",
       "인물:출생_일시         36\n",
       "인물:거주_국가         27\n",
       "인물:거주_도시         26\n",
       "단체:본사_주(도)       23\n",
       "단체:정치/종교성향       21\n",
       "단체:해산일           15\n",
       "인물:종교            15\n",
       "인물:출생_국가         13\n",
       "인물:거주_주(도)       12\n",
       "단체:주주            11\n",
       "인물:용의자           11\n",
       "인물:학교             9\n",
       "단체:구성원_수          9\n",
       "인물:사망_원인          7\n",
       "인물:나이             5\n",
       "단체:자회사            5\n",
       "인물:출생_도시          4\n",
       "인물:사망_국가          4\n",
       "인물:사망_도시          3\n",
       "Name: label, dtype: int64"
      ]
     },
     "metadata": {},
     "execution_count": 191
    }
   ],
   "source": [
    "combined_df[\"label\"].value_counts()"
   ]
  },
  {
   "cell_type": "code",
   "execution_count": 192,
   "metadata": {},
   "outputs": [],
   "source": [
    "combined_df.to_csv(\"/opt/ml/input/data/train/train_gold.tsv\", sep='\\t', index=False)"
   ]
  },
  {
   "cell_type": "code",
   "execution_count": 201,
   "metadata": {},
   "outputs": [
    {
     "output_type": "execute_result",
     "data": {
      "text/plain": [
       "   Unnamed: 0                              id  \\\n",
       "0           0  wikipedia-24896-25-30-33-19-21   \n",
       "1           1   wikipedia-12728-224-5-7-42-44   \n",
       "2           2      wikipedia-28460-3-0-7-9-12   \n",
       "3           3    wikipedia-11479-37-24-26-3-5   \n",
       "4           4     wikipedia-15581-6-0-2-32-40   \n",
       "\n",
       "                                                text   entity1  beg1  end1  \\\n",
       "0  영국에서 사용되는 스포츠 유틸리티 자동차의 브랜드로는 랜드로버(Land Rover)...      랜드로버  30.0  33.0   \n",
       "1  선거에서 민주당은 해산 전 의석인 230석에 한참 못 미치는 57석(지역구 27석,...       민주당   5.0   7.0   \n",
       "2  유럽 축구 연맹(UEFA) 집행위원회는 2014년 1월 24일에 열린 회의를 통해 ...  유럽 축구 연맹   0.0   7.0   \n",
       "3  용병 공격수 챠디의 부진과 시즌 초 활약한 강수일의 침체, 시즌 중반에 영입한 세르...       강수일  24.0  26.0   \n",
       "4  람캄행 왕은 1237년에서 1247년 사이 수코타이의 왕 퍼쿤 씨 인트라팃과 쓰엉 ...       람캄행   0.0   2.0   \n",
       "\n",
       "     entity2  beg2  end2     label  ans  \n",
       "0        자동차  19.0  21.0     단체:제작  NaN  \n",
       "1        27석  42.0  44.0     관계_없음  NaN  \n",
       "2       UEFA   9.0  12.0     단체:별칭  NaN  \n",
       "3        공격수   3.0   5.0  인물:직업/직함  NaN  \n",
       "4  퍼쿤 씨 인트라팃  32.0  40.0    인물:부모님  NaN  "
      ],
      "text/html": "<div>\n<style scoped>\n    .dataframe tbody tr th:only-of-type {\n        vertical-align: middle;\n    }\n\n    .dataframe tbody tr th {\n        vertical-align: top;\n    }\n\n    .dataframe thead th {\n        text-align: right;\n    }\n</style>\n<table border=\"1\" class=\"dataframe\">\n  <thead>\n    <tr style=\"text-align: right;\">\n      <th></th>\n      <th>Unnamed: 0</th>\n      <th>id</th>\n      <th>text</th>\n      <th>entity1</th>\n      <th>beg1</th>\n      <th>end1</th>\n      <th>entity2</th>\n      <th>beg2</th>\n      <th>end2</th>\n      <th>label</th>\n      <th>ans</th>\n    </tr>\n  </thead>\n  <tbody>\n    <tr>\n      <th>0</th>\n      <td>0</td>\n      <td>wikipedia-24896-25-30-33-19-21</td>\n      <td>영국에서 사용되는 스포츠 유틸리티 자동차의 브랜드로는 랜드로버(Land Rover)...</td>\n      <td>랜드로버</td>\n      <td>30.0</td>\n      <td>33.0</td>\n      <td>자동차</td>\n      <td>19.0</td>\n      <td>21.0</td>\n      <td>단체:제작</td>\n      <td>NaN</td>\n    </tr>\n    <tr>\n      <th>1</th>\n      <td>1</td>\n      <td>wikipedia-12728-224-5-7-42-44</td>\n      <td>선거에서 민주당은 해산 전 의석인 230석에 한참 못 미치는 57석(지역구 27석,...</td>\n      <td>민주당</td>\n      <td>5.0</td>\n      <td>7.0</td>\n      <td>27석</td>\n      <td>42.0</td>\n      <td>44.0</td>\n      <td>관계_없음</td>\n      <td>NaN</td>\n    </tr>\n    <tr>\n      <th>2</th>\n      <td>2</td>\n      <td>wikipedia-28460-3-0-7-9-12</td>\n      <td>유럽 축구 연맹(UEFA) 집행위원회는 2014년 1월 24일에 열린 회의를 통해 ...</td>\n      <td>유럽 축구 연맹</td>\n      <td>0.0</td>\n      <td>7.0</td>\n      <td>UEFA</td>\n      <td>9.0</td>\n      <td>12.0</td>\n      <td>단체:별칭</td>\n      <td>NaN</td>\n    </tr>\n    <tr>\n      <th>3</th>\n      <td>3</td>\n      <td>wikipedia-11479-37-24-26-3-5</td>\n      <td>용병 공격수 챠디의 부진과 시즌 초 활약한 강수일의 침체, 시즌 중반에 영입한 세르...</td>\n      <td>강수일</td>\n      <td>24.0</td>\n      <td>26.0</td>\n      <td>공격수</td>\n      <td>3.0</td>\n      <td>5.0</td>\n      <td>인물:직업/직함</td>\n      <td>NaN</td>\n    </tr>\n    <tr>\n      <th>4</th>\n      <td>4</td>\n      <td>wikipedia-15581-6-0-2-32-40</td>\n      <td>람캄행 왕은 1237년에서 1247년 사이 수코타이의 왕 퍼쿤 씨 인트라팃과 쓰엉 ...</td>\n      <td>람캄행</td>\n      <td>0.0</td>\n      <td>2.0</td>\n      <td>퍼쿤 씨 인트라팃</td>\n      <td>32.0</td>\n      <td>40.0</td>\n      <td>인물:부모님</td>\n      <td>NaN</td>\n    </tr>\n  </tbody>\n</table>\n</div>"
     },
     "metadata": {},
     "execution_count": 201
    }
   ],
   "source": [
    "combine_df_read = pd.read_csv(\"/opt/ml/input/data/train/train_gold.tsv\", delimiter='\\t')\n",
    "combined_df_read.head()"
   ]
  },
  {
   "source": [
    "# Train-val split"
   ],
   "cell_type": "markdown",
   "metadata": {}
  },
  {
   "cell_type": "code",
   "execution_count": null,
   "metadata": {},
   "outputs": [],
   "source": [
    "from sklearn.model_selection import "
   ]
  }
 ],
 "metadata": {
  "kernelspec": {
   "display_name": "Python 3",
   "language": "python",
   "name": "python3"
  },
  "language_info": {
   "codemirror_mode": {
    "name": "ipython",
    "version": 3
   },
   "file_extension": ".py",
   "mimetype": "text/x-python",
   "name": "python",
   "nbconvert_exporter": "python",
   "pygments_lexer": "ipython3",
   "version": "3.6.9"
  }
 },
 "nbformat": 4,
 "nbformat_minor": 5
}